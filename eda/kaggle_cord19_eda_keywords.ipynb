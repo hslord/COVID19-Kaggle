{
 "cells": [
  {
   "cell_type": "code",
   "execution_count": 1,
   "metadata": {},
   "outputs": [],
   "source": [
    "import pandas as pd\n",
    "import numpy as np\n",
    "import json\n",
    "import re\n",
    "from collections import Counter\n",
    "\n",
    "import matplotlib.pyplot as plt\n",
    "%matplotlib inline\n",
    "\n",
    "from sklearn.feature_extraction.text import CountVectorizer\n",
    "\n",
    "import warnings\n",
    "warnings.filterwarnings(\"ignore\")"
   ]
  },
  {
   "cell_type": "code",
   "execution_count": 2,
   "metadata": {},
   "outputs": [],
   "source": [
    "metadata = pd.read_csv(\"./CORD-19-research-challenge/metadata.csv\")"
   ]
  },
  {
   "cell_type": "code",
   "execution_count": 3,
   "metadata": {},
   "outputs": [
    {
     "data": {
      "text/html": [
       "<div>\n",
       "<style scoped>\n",
       "    .dataframe tbody tr th:only-of-type {\n",
       "        vertical-align: middle;\n",
       "    }\n",
       "\n",
       "    .dataframe tbody tr th {\n",
       "        vertical-align: top;\n",
       "    }\n",
       "\n",
       "    .dataframe thead th {\n",
       "        text-align: right;\n",
       "    }\n",
       "</style>\n",
       "<table border=\"1\" class=\"dataframe\">\n",
       "  <thead>\n",
       "    <tr style=\"text-align: right;\">\n",
       "      <th></th>\n",
       "      <th>sha</th>\n",
       "      <th>source_x</th>\n",
       "      <th>title</th>\n",
       "      <th>doi</th>\n",
       "      <th>pmcid</th>\n",
       "      <th>pubmed_id</th>\n",
       "      <th>license</th>\n",
       "      <th>abstract</th>\n",
       "      <th>publish_time</th>\n",
       "      <th>authors</th>\n",
       "      <th>journal</th>\n",
       "      <th>Microsoft Academic Paper ID</th>\n",
       "      <th>WHO #Covidence</th>\n",
       "      <th>has_full_text</th>\n",
       "      <th>full_text_file</th>\n",
       "    </tr>\n",
       "  </thead>\n",
       "  <tbody>\n",
       "    <tr>\n",
       "      <td>0</td>\n",
       "      <td>NaN</td>\n",
       "      <td>Elsevier</td>\n",
       "      <td>Intrauterine virus infections and congenital h...</td>\n",
       "      <td>10.1016/0002-8703(72)90077-4</td>\n",
       "      <td>NaN</td>\n",
       "      <td>4361535.0</td>\n",
       "      <td>els-covid</td>\n",
       "      <td>Abstract The etiologic basis for the vast majo...</td>\n",
       "      <td>1972-12-31</td>\n",
       "      <td>Overall, James C.</td>\n",
       "      <td>American Heart Journal</td>\n",
       "      <td>NaN</td>\n",
       "      <td>NaN</td>\n",
       "      <td>False</td>\n",
       "      <td>custom_license</td>\n",
       "    </tr>\n",
       "    <tr>\n",
       "      <td>1</td>\n",
       "      <td>NaN</td>\n",
       "      <td>Elsevier</td>\n",
       "      <td>Coronaviruses in Balkan nephritis</td>\n",
       "      <td>10.1016/0002-8703(80)90355-5</td>\n",
       "      <td>NaN</td>\n",
       "      <td>6243850.0</td>\n",
       "      <td>els-covid</td>\n",
       "      <td>NaN</td>\n",
       "      <td>1980-03-31</td>\n",
       "      <td>Georgescu, Leonida; Diosi, Peter; Buţiu, Ioan;...</td>\n",
       "      <td>American Heart Journal</td>\n",
       "      <td>NaN</td>\n",
       "      <td>NaN</td>\n",
       "      <td>False</td>\n",
       "      <td>custom_license</td>\n",
       "    </tr>\n",
       "    <tr>\n",
       "      <td>2</td>\n",
       "      <td>NaN</td>\n",
       "      <td>Elsevier</td>\n",
       "      <td>Cigarette smoking and coronary heart disease: ...</td>\n",
       "      <td>10.1016/0002-8703(80)90356-7</td>\n",
       "      <td>NaN</td>\n",
       "      <td>7355701.0</td>\n",
       "      <td>els-covid</td>\n",
       "      <td>NaN</td>\n",
       "      <td>1980-03-31</td>\n",
       "      <td>Friedman, Gary D</td>\n",
       "      <td>American Heart Journal</td>\n",
       "      <td>NaN</td>\n",
       "      <td>NaN</td>\n",
       "      <td>False</td>\n",
       "      <td>custom_license</td>\n",
       "    </tr>\n",
       "    <tr>\n",
       "      <td>3</td>\n",
       "      <td>aecbc613ebdab36753235197ffb4f35734b5ca63</td>\n",
       "      <td>Elsevier</td>\n",
       "      <td>Clinical and immunologic studies in identical ...</td>\n",
       "      <td>10.1016/0002-9343(73)90176-9</td>\n",
       "      <td>NaN</td>\n",
       "      <td>4579077.0</td>\n",
       "      <td>els-covid</td>\n",
       "      <td>Abstract Middle-aged female identical twins, o...</td>\n",
       "      <td>1973-08-31</td>\n",
       "      <td>Brunner, Carolyn M.; Horwitz, David A.; Shann,...</td>\n",
       "      <td>The American Journal of Medicine</td>\n",
       "      <td>NaN</td>\n",
       "      <td>NaN</td>\n",
       "      <td>True</td>\n",
       "      <td>custom_license</td>\n",
       "    </tr>\n",
       "    <tr>\n",
       "      <td>4</td>\n",
       "      <td>NaN</td>\n",
       "      <td>Elsevier</td>\n",
       "      <td>Epidemiology of community-acquired respiratory...</td>\n",
       "      <td>10.1016/0002-9343(85)90361-4</td>\n",
       "      <td>NaN</td>\n",
       "      <td>4014285.0</td>\n",
       "      <td>els-covid</td>\n",
       "      <td>Abstract Upper respiratory tract infections ar...</td>\n",
       "      <td>1985-06-28</td>\n",
       "      <td>Garibaldi, Richard A.</td>\n",
       "      <td>The American Journal of Medicine</td>\n",
       "      <td>NaN</td>\n",
       "      <td>NaN</td>\n",
       "      <td>False</td>\n",
       "      <td>custom_license</td>\n",
       "    </tr>\n",
       "  </tbody>\n",
       "</table>\n",
       "</div>"
      ],
      "text/plain": [
       "                                        sha  source_x  \\\n",
       "0                                       NaN  Elsevier   \n",
       "1                                       NaN  Elsevier   \n",
       "2                                       NaN  Elsevier   \n",
       "3  aecbc613ebdab36753235197ffb4f35734b5ca63  Elsevier   \n",
       "4                                       NaN  Elsevier   \n",
       "\n",
       "                                               title  \\\n",
       "0  Intrauterine virus infections and congenital h...   \n",
       "1                  Coronaviruses in Balkan nephritis   \n",
       "2  Cigarette smoking and coronary heart disease: ...   \n",
       "3  Clinical and immunologic studies in identical ...   \n",
       "4  Epidemiology of community-acquired respiratory...   \n",
       "\n",
       "                            doi pmcid  pubmed_id    license  \\\n",
       "0  10.1016/0002-8703(72)90077-4   NaN  4361535.0  els-covid   \n",
       "1  10.1016/0002-8703(80)90355-5   NaN  6243850.0  els-covid   \n",
       "2  10.1016/0002-8703(80)90356-7   NaN  7355701.0  els-covid   \n",
       "3  10.1016/0002-9343(73)90176-9   NaN  4579077.0  els-covid   \n",
       "4  10.1016/0002-9343(85)90361-4   NaN  4014285.0  els-covid   \n",
       "\n",
       "                                            abstract publish_time  \\\n",
       "0  Abstract The etiologic basis for the vast majo...   1972-12-31   \n",
       "1                                                NaN   1980-03-31   \n",
       "2                                                NaN   1980-03-31   \n",
       "3  Abstract Middle-aged female identical twins, o...   1973-08-31   \n",
       "4  Abstract Upper respiratory tract infections ar...   1985-06-28   \n",
       "\n",
       "                                             authors  \\\n",
       "0                                  Overall, James C.   \n",
       "1  Georgescu, Leonida; Diosi, Peter; Buţiu, Ioan;...   \n",
       "2                                   Friedman, Gary D   \n",
       "3  Brunner, Carolyn M.; Horwitz, David A.; Shann,...   \n",
       "4                              Garibaldi, Richard A.   \n",
       "\n",
       "                            journal  Microsoft Academic Paper ID  \\\n",
       "0            American Heart Journal                          NaN   \n",
       "1            American Heart Journal                          NaN   \n",
       "2            American Heart Journal                          NaN   \n",
       "3  The American Journal of Medicine                          NaN   \n",
       "4  The American Journal of Medicine                          NaN   \n",
       "\n",
       "  WHO #Covidence  has_full_text  full_text_file  \n",
       "0            NaN          False  custom_license  \n",
       "1            NaN          False  custom_license  \n",
       "2            NaN          False  custom_license  \n",
       "3            NaN           True  custom_license  \n",
       "4            NaN          False  custom_license  "
      ]
     },
     "execution_count": 3,
     "metadata": {},
     "output_type": "execute_result"
    }
   ],
   "source": [
    "metadata.head()"
   ]
  },
  {
   "cell_type": "code",
   "execution_count": 4,
   "metadata": {},
   "outputs": [
    {
     "data": {
      "text/plain": [
       "custom_license        20873\n",
       "comm_use_subset        8803\n",
       "noncomm_use_subset     2133\n",
       "biorxiv_medrxiv        1020\n",
       "Name: full_text_file, dtype: int64"
      ]
     },
     "execution_count": 4,
     "metadata": {},
     "output_type": "execute_result"
    }
   ],
   "source": [
    "metadata[\"full_text_file\"].value_counts()"
   ]
  },
  {
   "cell_type": "code",
   "execution_count": 5,
   "metadata": {},
   "outputs": [
    {
     "data": {
      "text/plain": [
       "True     28462\n",
       "False    15758\n",
       "Name: has_full_text, dtype: int64"
      ]
     },
     "execution_count": 5,
     "metadata": {},
     "output_type": "execute_result"
    }
   ],
   "source": [
    "metadata[\"has_full_text\"].value_counts()"
   ]
  },
  {
   "cell_type": "code",
   "execution_count": 6,
   "metadata": {},
   "outputs": [
    {
     "data": {
      "text/plain": [
       "8414"
      ]
     },
     "execution_count": 6,
     "metadata": {},
     "output_type": "execute_result"
    }
   ],
   "source": [
    "metadata[\"abstract\"].isnull().sum()"
   ]
  },
  {
   "cell_type": "code",
   "execution_count": 7,
   "metadata": {},
   "outputs": [
    {
     "data": {
      "text/plain": [
       "224"
      ]
     },
     "execution_count": 7,
     "metadata": {},
     "output_type": "execute_result"
    }
   ],
   "source": [
    "metadata[\"title\"].isnull().sum()"
   ]
  },
  {
   "cell_type": "code",
   "execution_count": 8,
   "metadata": {},
   "outputs": [],
   "source": [
    "def find_keyword(keywords, text):\n",
    "    find = []\n",
    "    for keyword in keywords:\n",
    "        find.extend(re.findall(keyword, text.lower()))\n",
    "    return len(find)"
   ]
  },
  {
   "cell_type": "code",
   "execution_count": 9,
   "metadata": {},
   "outputs": [],
   "source": [
    "def count_keywords(keywords, data):\n",
    "    counts = []\n",
    "    for i in range(data.shape[0]):\n",
    "        count = 0\n",
    "        if type(data.iloc[i][\"title\"]) == str:\n",
    "            count += find_keyword(keywords, data.iloc[i][\"title\"])\n",
    "        if type(data.iloc[i][\"abstract\"]) == str:\n",
    "            count += find_keyword(keywords, data.iloc[i][\"abstract\"])\n",
    "        counts.append(count)\n",
    "    return(counts)"
   ]
  },
  {
   "cell_type": "code",
   "execution_count": 10,
   "metadata": {},
   "outputs": [],
   "source": [
    "def abstract_word_counts(data, n):\n",
    "    count_vect = CountVectorizer(stop_words=\"english\", analyzer=\"word\", ngram_range=(1,1))\n",
    "    counts = count_vect.fit_transform(data[data[\"abstract\"].isnull()==False][\"abstract\"])\n",
    "    vocab = count_vect.get_feature_names()\n",
    "    counter = Counter(dict(zip(vocab, counts.sum(axis=0).A1)))\n",
    "    return(counter.most_common(n))"
   ]
  },
  {
   "cell_type": "code",
   "execution_count": 17,
   "metadata": {},
   "outputs": [],
   "source": [
    "def show_title_abstract(data, show_abstract=True):\n",
    "    for index, row in data.iterrows():\n",
    "        print(index)\n",
    "        print(row[\"title\"])\n",
    "        if show_abstract:\n",
    "            print(row[\"abstract\"])\n",
    "        print(\"\")"
   ]
  },
  {
   "cell_type": "code",
   "execution_count": 12,
   "metadata": {},
   "outputs": [
    {
     "data": {
      "text/plain": [
       "29"
      ]
     },
     "execution_count": 12,
     "metadata": {},
     "output_type": "execute_result"
    }
   ],
   "source": [
    "keywords_1 = [\"non-pharmaceutical intervention\"]\n",
    "metadata[\"keywords_1\"] = count_keywords(keywords_1, metadata)\n",
    "data_1 = metadata[metadata[\"keywords_1\"] > 0]\n",
    "data_1.shape[0]"
   ]
  },
  {
   "cell_type": "code",
   "execution_count": 13,
   "metadata": {},
   "outputs": [
    {
     "name": "stdout",
     "output_type": "stream",
     "text": [
      "[('interventions', 82), ('influenza', 68), ('pharmaceutical', 63), ('non', 58), ('pandemic', 57), ('cases', 39), ('health', 38), ('infection', 32), ('disease', 31), ('transmission', 31), ('control', 29), ('epidemic', 27), ('npi', 27), ('public', 27), ('19', 26), ('npis', 26), ('results', 26), ('hand', 25), ('respiratory', 25), ('measures', 24), ('outbreak', 24), ('covid', 22), ('study', 22), ('contact', 21), ('effective', 21), ('based', 20), ('community', 20), ('model', 20), ('spread', 20), ('2009', 18), ('background', 18), ('case', 18), ('early', 18), ('effectiveness', 18), ('risk', 17), ('use', 17), ('cost', 16), ('h1n1', 16), ('household', 16), ('infectious', 16), ('methods', 16), ('number', 16), ('strategies', 16), ('policy', 15), ('delay', 14), ('evidence', 14), ('intervention', 14), ('laboratory', 14), ('reported', 14), ('secondary', 14), ('social', 14), ('time', 14), ('95', 13), ('data', 13), ('households', 13), ('hygiene', 13), ('infections', 13), ('travel', 13), ('age', 12), ('behaviour', 12), ('confirmed', 12), ('emerging', 12), ('group', 12), ('index', 12), ('perceived', 12), ('quarantine', 12), ('school', 12), ('structure', 12), ('virus', 12), ('acute', 11), ('conclusions', 11), ('conducted', 11), ('diseases', 11), ('impact', 11), ('implementation', 11), ('information', 11), ('limited', 11), ('potential', 11), ('preparedness', 11), ('significantly', 11), ('used', 11), ('china', 10), ('ci', 10), ('distancing', 10), ('dynamics', 10), ('education', 10), ('efficacy', 10), ('evd', 10), ('human', 10), ('important', 10), ('isolation', 10), ('mask', 10), ('population', 10), ('rate', 10), ('rates', 10), ('reduction', 10), ('response', 10), ('studies', 10), ('surveillance', 10), ('vaccine', 10)]\n"
     ]
    }
   ],
   "source": [
    "print(abstract_word_counts(data_1, 100))"
   ]
  },
  {
   "cell_type": "code",
   "execution_count": 14,
   "metadata": {},
   "outputs": [
    {
     "data": {
      "text/plain": [
       "113"
      ]
     },
     "execution_count": 14,
     "metadata": {},
     "output_type": "execute_result"
    }
   ],
   "source": [
    "keywords_2 = [\"school closure\", \"travel ban\", \"social distancing\"]\n",
    "metadata[\"keywords_2\"] = count_keywords(keywords_2, metadata)\n",
    "data_2 = metadata[metadata[\"keywords_2\"] > 0]\n",
    "data_2.shape[0]"
   ]
  },
  {
   "cell_type": "code",
   "execution_count": 15,
   "metadata": {},
   "outputs": [
    {
     "name": "stdout",
     "output_type": "stream",
     "text": [
      "[('social', 153), ('influenza', 141), ('pandemic', 132), ('epidemic', 130), ('transmission', 124), ('school', 122), ('distancing', 118), ('health', 118), ('measures', 118), ('disease', 110), ('data', 94), ('control', 90), ('spread', 88), ('number', 87), ('19', 86), ('outbreak', 84), ('public', 84), ('cases', 83), ('model', 83), ('covid', 82), ('china', 78), ('infection', 68), ('impact', 66), ('interventions', 65), ('results', 60), ('respiratory', 59), ('models', 58), ('closure', 57), ('contact', 57), ('effective', 53), ('population', 53), ('travel', 51), ('virus', 51), ('based', 50), ('case', 47), ('infectious', 47), ('risk', 47), ('outbreaks', 46), ('time', 46), ('countries', 44), ('using', 44), ('methods', 43), ('age', 42), ('used', 41), ('reduce', 40), ('strategies', 40), ('infected', 39), ('quarantine', 39), ('study', 38), ('wuhan', 38), ('contacts', 36), ('patients', 36), ('people', 36), ('effect', 35), ('h1n1', 35), ('studies', 35), ('non', 34), ('2019', 33), ('information', 33), ('reported', 33), ('use', 33), ('closures', 32), ('effectiveness', 32), ('infections', 32), ('media', 32), ('2020', 31), ('95', 31), ('background', 31), ('healthcare', 31), ('high', 31), ('individuals', 31), ('response', 31), ('associated', 30), ('children', 29), ('early', 29), ('estimated', 29), ('new', 29), ('novel', 29), ('peak', 29), ('potential', 29), ('changes', 28), ('evidence', 28), ('important', 28), ('policy', 28), ('care', 27), ('community', 27), ('including', 27), ('pharmaceutical', 27), ('analysis', 26), ('ci', 26), ('different', 26), ('estimate', 26), ('incidence', 26), ('patterns', 26), ('policies', 26), ('behavior', 25), ('days', 25), ('human', 25), ('reproduction', 25), ('sars', 25)]\n"
     ]
    }
   ],
   "source": [
    "print(abstract_word_counts(data_2, 100))"
   ]
  },
  {
   "cell_type": "code",
   "execution_count": 18,
   "metadata": {
    "scrolled": false
   },
   "outputs": [
    {
     "name": "stdout",
     "output_type": "stream",
     "text": [
      "5927\n",
      "Timely identification of optimal control strategies for emerging infectious diseases\n",
      "\n",
      "5951\n",
      "The impacts of simultaneous disease intervention decisions on epidemic outcomes\n",
      "\n",
      "10868\n",
      "The impact of non-pharmaceutical interventions for 2009 H1N1 influenza on travel intentions: A model of goal-directed behavior\n",
      "\n",
      "13513\n",
      "Certainties and Uncertainties Facing Emerging Respiratory Infectious Diseases: Lessons from SARS\n",
      "\n",
      "16331\n",
      "Closure of schools during an influenza pandemic\n",
      "\n",
      "16539\n",
      "Non-pharmaceutical interventions for the prevention of respiratory tract infections during Hajj pilgrimage\n",
      "\n",
      "19615\n",
      "Time variations in the transmissibility of pandemic influenza in Prussia, Germany, from 1918–19\n",
      "\n",
      "19629\n",
      "Influenza pandemic intervention planning using InfluSim: pharmaceutical and non- pharmaceutical interventions\n",
      "\n",
      "20037\n",
      "An optimal control theory approach to non-pharmaceutical interventions\n",
      "\n",
      "20038\n",
      "Dynamics and Control of Diseases in Networks with Community Structure\n",
      "\n",
      "20207\n",
      "Response to the challenges of pandemic H1N1 in a small island state: the Barbadian experience\n",
      "\n",
      "20684\n",
      "The role of facemasks and hand hygiene in the prevention of influenza transmission in households: results from a cluster randomised trial; Berlin, Germany, 2009-2011\n",
      "\n",
      "21967\n",
      "Public perceptions of non-pharmaceutical interventions for reducing transmission of respiratory infection: systematic review and synthesis of qualitative studies\n",
      "\n",
      "22000\n",
      "Pandemic preparedness: perceptions of vulnerable migrants in Thailand towards WHO-recommended non-pharmaceutical interventions: a cross-sectional study\n",
      "\n",
      "22541\n",
      "Effectiveness of non-pharmaceutical measures in preventing pediatric influenza: a case–control study\n",
      "\n",
      "28534\n",
      "Systematic Review of Economic Evaluations of Preparedness Strategies and Interventions against Influenza Pandemics\n",
      "\n",
      "31181\n",
      "Ebola Virus Disease: Rapid Diagnosis and Timely Case Reporting are Critical to the Early Response for Outbreak Control\n",
      "\n",
      "31805\n",
      "Predicting support for non-pharmaceutical interventions during infectious outbreaks: a four region analysis\n",
      "\n",
      "33518\n",
      "Effectiveness of Non-pharmaceutical Interventions in Controlling an Influenza A Outbreak in a School, Thailand, November 2007\n",
      "\n",
      "34495\n",
      "Impact of Non-Pharmaceutical Interventions on URIs and Influenza in Crowded, Urban Households\n",
      "\n",
      "39501\n",
      "Containing Emerging Epidemics: a Quantitative Comparison of Quarantine and Symptom Monitoring\n",
      "\n",
      "40291\n",
      "Community responses during the early phase of the COVID-19 epidemic in Hong Kong: risk perception, information exposure and preventive measures\n",
      "\n",
      "40358\n",
      "Effect of non-pharmaceutical interventions for containing the COVID-19 outbreak in China\n",
      "\n",
      "40363\n",
      "Evolving Epidemiology and Impact of Non-pharmaceutical Interventions on the Outbreak of Coronavirus Disease 2019 in Wuhan, China\n",
      "\n",
      "40476\n",
      "Impact assessment of non-pharmaceutical interventions against COVID-19 and influenza in Hong Kong: an observational study\n",
      "\n",
      "41710\n",
      "Non-pharmaceutical public health interventions for pandemic influenza: an evaluation of the evidence base\n",
      "\n",
      "41936\n",
      "Containing the accidental laboratory escape of potential pandemic influenza viruses\n",
      "\n",
      "41966\n",
      "Preliminary Findings of a Randomized Trial of Non-Pharmaceutical Interventions to Prevent Influenza Transmission in Households\n",
      "\n",
      "43841\n",
      "The Waiting Time for Inter-Country Spread of Pandemic Influenza\n",
      "\n"
     ]
    }
   ],
   "source": [
    "show_title_abstract(data_1, show_abstract=False)"
   ]
  }
 ],
 "metadata": {
  "kernelspec": {
   "display_name": "Python 3",
   "language": "python",
   "name": "python3"
  },
  "language_info": {
   "codemirror_mode": {
    "name": "ipython",
    "version": 3
   },
   "file_extension": ".py",
   "mimetype": "text/x-python",
   "name": "python",
   "nbconvert_exporter": "python",
   "pygments_lexer": "ipython3",
   "version": "3.7.4"
  }
 },
 "nbformat": 4,
 "nbformat_minor": 2
}

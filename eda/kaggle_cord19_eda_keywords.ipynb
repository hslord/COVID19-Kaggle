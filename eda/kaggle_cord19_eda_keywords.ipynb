{
 "cells": [
  {
   "cell_type": "code",
   "execution_count": 1,
   "metadata": {},
   "outputs": [],
   "source": [
    "import pandas as pd\n",
    "import numpy as np\n",
    "import json\n",
    "import re\n",
    "from collections import Counter\n",
    "\n",
    "import matplotlib.pyplot as plt\n",
    "%matplotlib inline\n",
    "\n",
    "from sklearn.feature_extraction.text import CountVectorizer\n",
    "\n",
    "import warnings\n",
    "warnings.filterwarnings(\"ignore\")"
   ]
  },
  {
   "cell_type": "code",
   "execution_count": 2,
   "metadata": {},
   "outputs": [],
   "source": [
    "DIR = \"/hackathon/covid-19/data/\""
   ]
  },
  {
   "cell_type": "code",
   "execution_count": 3,
   "metadata": {},
   "outputs": [],
   "source": [
    "metadata = pd.read_csv(DIR+\"metadata.csv\")"
   ]
  },
  {
   "cell_type": "code",
   "execution_count": 4,
   "metadata": {},
   "outputs": [
    {
     "data": {
      "text/html": [
       "<div>\n",
       "<style scoped>\n",
       "    .dataframe tbody tr th:only-of-type {\n",
       "        vertical-align: middle;\n",
       "    }\n",
       "\n",
       "    .dataframe tbody tr th {\n",
       "        vertical-align: top;\n",
       "    }\n",
       "\n",
       "    .dataframe thead th {\n",
       "        text-align: right;\n",
       "    }\n",
       "</style>\n",
       "<table border=\"1\" class=\"dataframe\">\n",
       "  <thead>\n",
       "    <tr style=\"text-align: right;\">\n",
       "      <th></th>\n",
       "      <th>sha</th>\n",
       "      <th>source_x</th>\n",
       "      <th>title</th>\n",
       "      <th>doi</th>\n",
       "      <th>pmcid</th>\n",
       "      <th>pubmed_id</th>\n",
       "      <th>license</th>\n",
       "      <th>abstract</th>\n",
       "      <th>publish_time</th>\n",
       "      <th>authors</th>\n",
       "      <th>journal</th>\n",
       "      <th>Microsoft Academic Paper ID</th>\n",
       "      <th>WHO #Covidence</th>\n",
       "      <th>has_full_text</th>\n",
       "      <th>full_text_file</th>\n",
       "    </tr>\n",
       "  </thead>\n",
       "  <tbody>\n",
       "    <tr>\n",
       "      <th>0</th>\n",
       "      <td>NaN</td>\n",
       "      <td>Elsevier</td>\n",
       "      <td>Intrauterine virus infections and congenital h...</td>\n",
       "      <td>10.1016/0002-8703(72)90077-4</td>\n",
       "      <td>NaN</td>\n",
       "      <td>4361535.0</td>\n",
       "      <td>els-covid</td>\n",
       "      <td>Abstract The etiologic basis for the vast majo...</td>\n",
       "      <td>1972-12-31</td>\n",
       "      <td>Overall, James C.</td>\n",
       "      <td>American Heart Journal</td>\n",
       "      <td>NaN</td>\n",
       "      <td>NaN</td>\n",
       "      <td>False</td>\n",
       "      <td>custom_license</td>\n",
       "    </tr>\n",
       "    <tr>\n",
       "      <th>1</th>\n",
       "      <td>NaN</td>\n",
       "      <td>Elsevier</td>\n",
       "      <td>Coronaviruses in Balkan nephritis</td>\n",
       "      <td>10.1016/0002-8703(80)90355-5</td>\n",
       "      <td>NaN</td>\n",
       "      <td>6243850.0</td>\n",
       "      <td>els-covid</td>\n",
       "      <td>NaN</td>\n",
       "      <td>1980-03-31</td>\n",
       "      <td>Georgescu, Leonida; Diosi, Peter; Buţiu, Ioan;...</td>\n",
       "      <td>American Heart Journal</td>\n",
       "      <td>NaN</td>\n",
       "      <td>NaN</td>\n",
       "      <td>False</td>\n",
       "      <td>custom_license</td>\n",
       "    </tr>\n",
       "    <tr>\n",
       "      <th>2</th>\n",
       "      <td>NaN</td>\n",
       "      <td>Elsevier</td>\n",
       "      <td>Cigarette smoking and coronary heart disease: ...</td>\n",
       "      <td>10.1016/0002-8703(80)90356-7</td>\n",
       "      <td>NaN</td>\n",
       "      <td>7355701.0</td>\n",
       "      <td>els-covid</td>\n",
       "      <td>NaN</td>\n",
       "      <td>1980-03-31</td>\n",
       "      <td>Friedman, Gary D</td>\n",
       "      <td>American Heart Journal</td>\n",
       "      <td>NaN</td>\n",
       "      <td>NaN</td>\n",
       "      <td>False</td>\n",
       "      <td>custom_license</td>\n",
       "    </tr>\n",
       "    <tr>\n",
       "      <th>3</th>\n",
       "      <td>aecbc613ebdab36753235197ffb4f35734b5ca63</td>\n",
       "      <td>Elsevier</td>\n",
       "      <td>Clinical and immunologic studies in identical ...</td>\n",
       "      <td>10.1016/0002-9343(73)90176-9</td>\n",
       "      <td>NaN</td>\n",
       "      <td>4579077.0</td>\n",
       "      <td>els-covid</td>\n",
       "      <td>Abstract Middle-aged female identical twins, o...</td>\n",
       "      <td>1973-08-31</td>\n",
       "      <td>Brunner, Carolyn M.; Horwitz, David A.; Shann,...</td>\n",
       "      <td>The American Journal of Medicine</td>\n",
       "      <td>NaN</td>\n",
       "      <td>NaN</td>\n",
       "      <td>True</td>\n",
       "      <td>custom_license</td>\n",
       "    </tr>\n",
       "    <tr>\n",
       "      <th>4</th>\n",
       "      <td>NaN</td>\n",
       "      <td>Elsevier</td>\n",
       "      <td>Epidemiology of community-acquired respiratory...</td>\n",
       "      <td>10.1016/0002-9343(85)90361-4</td>\n",
       "      <td>NaN</td>\n",
       "      <td>4014285.0</td>\n",
       "      <td>els-covid</td>\n",
       "      <td>Abstract Upper respiratory tract infections ar...</td>\n",
       "      <td>1985-06-28</td>\n",
       "      <td>Garibaldi, Richard A.</td>\n",
       "      <td>The American Journal of Medicine</td>\n",
       "      <td>NaN</td>\n",
       "      <td>NaN</td>\n",
       "      <td>False</td>\n",
       "      <td>custom_license</td>\n",
       "    </tr>\n",
       "  </tbody>\n",
       "</table>\n",
       "</div>"
      ],
      "text/plain": [
       "                                        sha  source_x  \\\n",
       "0                                       NaN  Elsevier   \n",
       "1                                       NaN  Elsevier   \n",
       "2                                       NaN  Elsevier   \n",
       "3  aecbc613ebdab36753235197ffb4f35734b5ca63  Elsevier   \n",
       "4                                       NaN  Elsevier   \n",
       "\n",
       "                                               title  \\\n",
       "0  Intrauterine virus infections and congenital h...   \n",
       "1                  Coronaviruses in Balkan nephritis   \n",
       "2  Cigarette smoking and coronary heart disease: ...   \n",
       "3  Clinical and immunologic studies in identical ...   \n",
       "4  Epidemiology of community-acquired respiratory...   \n",
       "\n",
       "                            doi pmcid  pubmed_id    license  \\\n",
       "0  10.1016/0002-8703(72)90077-4   NaN  4361535.0  els-covid   \n",
       "1  10.1016/0002-8703(80)90355-5   NaN  6243850.0  els-covid   \n",
       "2  10.1016/0002-8703(80)90356-7   NaN  7355701.0  els-covid   \n",
       "3  10.1016/0002-9343(73)90176-9   NaN  4579077.0  els-covid   \n",
       "4  10.1016/0002-9343(85)90361-4   NaN  4014285.0  els-covid   \n",
       "\n",
       "                                            abstract publish_time  \\\n",
       "0  Abstract The etiologic basis for the vast majo...   1972-12-31   \n",
       "1                                                NaN   1980-03-31   \n",
       "2                                                NaN   1980-03-31   \n",
       "3  Abstract Middle-aged female identical twins, o...   1973-08-31   \n",
       "4  Abstract Upper respiratory tract infections ar...   1985-06-28   \n",
       "\n",
       "                                             authors  \\\n",
       "0                                  Overall, James C.   \n",
       "1  Georgescu, Leonida; Diosi, Peter; Buţiu, Ioan;...   \n",
       "2                                   Friedman, Gary D   \n",
       "3  Brunner, Carolyn M.; Horwitz, David A.; Shann,...   \n",
       "4                              Garibaldi, Richard A.   \n",
       "\n",
       "                            journal  Microsoft Academic Paper ID  \\\n",
       "0            American Heart Journal                          NaN   \n",
       "1            American Heart Journal                          NaN   \n",
       "2            American Heart Journal                          NaN   \n",
       "3  The American Journal of Medicine                          NaN   \n",
       "4  The American Journal of Medicine                          NaN   \n",
       "\n",
       "  WHO #Covidence  has_full_text  full_text_file  \n",
       "0            NaN          False  custom_license  \n",
       "1            NaN          False  custom_license  \n",
       "2            NaN          False  custom_license  \n",
       "3            NaN           True  custom_license  \n",
       "4            NaN          False  custom_license  "
      ]
     },
     "execution_count": 4,
     "metadata": {},
     "output_type": "execute_result"
    }
   ],
   "source": [
    "metadata.head()"
   ]
  },
  {
   "cell_type": "code",
   "execution_count": 5,
   "metadata": {},
   "outputs": [
    {
     "data": {
      "text/plain": [
       "custom_license        20873\n",
       "comm_use_subset        8803\n",
       "noncomm_use_subset     2133\n",
       "biorxiv_medrxiv        1020\n",
       "Name: full_text_file, dtype: int64"
      ]
     },
     "execution_count": 5,
     "metadata": {},
     "output_type": "execute_result"
    }
   ],
   "source": [
    "metadata[\"full_text_file\"].value_counts()"
   ]
  },
  {
   "cell_type": "code",
   "execution_count": 6,
   "metadata": {},
   "outputs": [
    {
     "data": {
      "text/plain": [
       "True     28462\n",
       "False    15758\n",
       "Name: has_full_text, dtype: int64"
      ]
     },
     "execution_count": 6,
     "metadata": {},
     "output_type": "execute_result"
    }
   ],
   "source": [
    "metadata[\"has_full_text\"].value_counts()"
   ]
  },
  {
   "cell_type": "code",
   "execution_count": 7,
   "metadata": {},
   "outputs": [
    {
     "data": {
      "text/plain": [
       "8414"
      ]
     },
     "execution_count": 7,
     "metadata": {},
     "output_type": "execute_result"
    }
   ],
   "source": [
    "metadata[\"abstract\"].isnull().sum()"
   ]
  },
  {
   "cell_type": "code",
   "execution_count": 8,
   "metadata": {},
   "outputs": [
    {
     "data": {
      "text/plain": [
       "224"
      ]
     },
     "execution_count": 8,
     "metadata": {},
     "output_type": "execute_result"
    }
   ],
   "source": [
    "metadata[\"title\"].isnull().sum()"
   ]
  },
  {
   "cell_type": "code",
   "execution_count": 10,
   "metadata": {},
   "outputs": [],
   "source": [
    "def find_keyword(keywords, text):\n",
    "    \"\"\"\n",
    "    Iterates through a list of keywords and searches them in a string of text.\n",
    "\n",
    "    inputs:\n",
    "      keywords: list of keywords\n",
    "      text: string of text\n",
    "\n",
    "    output: number of times keywords are found in the text\n",
    "    \"\"\"\n",
    "    find = []\n",
    "    for keyword in keywords:\n",
    "        find.extend(re.findall(keyword, text.lower()))\n",
    "    return len(find)"
   ]
  },
  {
   "cell_type": "code",
   "execution_count": 11,
   "metadata": {},
   "outputs": [],
   "source": [
    "def count_keywords(keywords, data, must_contain_keywords=[]):\n",
    "    \"\"\"\n",
    "    Counts the number of times keywords appears in the title and abstract, if available.\n",
    "\n",
    "    inputs:\n",
    "      keywords: list of keywords\n",
    "      data: metadata dataframe\n",
    "      must_contain_keywords: list of keywords that must be included\n",
    "\n",
    "    output: list of keyword counts, indexed according to the input dataframe\n",
    "    \"\"\"\n",
    "    counts = []\n",
    "    for i in range(data.shape[0]):\n",
    "        count = 0\n",
    "        include = 0\n",
    "        if type(data.iloc[i][\"title\"]) == str:\n",
    "            count += find_keyword(keywords, data.iloc[i][\"title\"])\n",
    "            include += find_keyword(must_contain_keywords, data.iloc[i][\"title\"])\n",
    "        if type(data.iloc[i][\"abstract\"]) == str:\n",
    "            count += find_keyword(keywords, data.iloc[i][\"abstract\"])\n",
    "            include += find_keyword(must_contain_keywords, data.iloc[i][\"abstract\"])\n",
    "        if must_contain_keywords==[]:\n",
    "            counts.append(count)\n",
    "        else:\n",
    "            if include==0:\n",
    "                counts.append(0)\n",
    "            else:\n",
    "                counts.append(count)\n",
    "\n",
    "    return(counts)"
   ]
  },
  {
   "cell_type": "code",
   "execution_count": 12,
   "metadata": {},
   "outputs": [],
   "source": [
    "def abstract_word_counts(data, n):\n",
    "    count_vect = CountVectorizer(stop_words=\"english\", analyzer=\"word\", ngram_range=(1,1))\n",
    "    counts = count_vect.fit_transform(data[data[\"abstract\"].isnull()==False][\"abstract\"])\n",
    "    vocab = count_vect.get_feature_names()\n",
    "    counter = Counter(dict(zip(vocab, counts.sum(axis=0).A1)))\n",
    "    return(counter.most_common(n))"
   ]
  },
  {
   "cell_type": "code",
   "execution_count": 13,
   "metadata": {},
   "outputs": [],
   "source": [
    "def show_title_abstract(data, show_abstract=True):\n",
    "    for index, row in data.iterrows():\n",
    "        print(index)\n",
    "        print(row[\"title\"])\n",
    "        if show_abstract:\n",
    "            print(row[\"abstract\"])\n",
    "        print(\"\")"
   ]
  },
  {
   "cell_type": "code",
   "execution_count": 14,
   "metadata": {},
   "outputs": [
    {
     "data": {
      "text/plain": [
       "4"
      ]
     },
     "execution_count": 14,
     "metadata": {},
     "output_type": "execute_result"
    }
   ],
   "source": [
    "keywords_1 = [\"non-pharmaceutical intervention\"]\n",
    "metadata[\"keywords_1\"] = count_keywords(keywords_1, metadata, [\"covid\", \"corona\"])\n",
    "data_1 = metadata[metadata[\"keywords_1\"] > 0]\n",
    "data_1.shape[0]"
   ]
  },
  {
   "cell_type": "code",
   "execution_count": null,
   "metadata": {},
   "outputs": [],
   "source": [
    "#print(abstract_word_counts(data_1, 100))"
   ]
  },
  {
   "cell_type": "code",
   "execution_count": 16,
   "metadata": {},
   "outputs": [
    {
     "data": {
      "text/plain": [
       "37"
      ]
     },
     "execution_count": 16,
     "metadata": {},
     "output_type": "execute_result"
    }
   ],
   "source": [
    "keywords_2 = [\"school closure\", \"travel ban\", \"social distancing\"]\n",
    "metadata[\"keywords_2\"] = count_keywords(keywords_2, metadata, [\"covid\", \"corona\"])\n",
    "data_2 = metadata[metadata[\"keywords_2\"] > 0]\n",
    "data_2.shape[0]"
   ]
  },
  {
   "cell_type": "markdown",
   "metadata": {},
   "source": [
    "The json file has the following keys:\n",
    "\n",
    "dict_keys(['paper_id', 'metadata', 'abstract', 'body_text', 'bib_entries', 'ref_entries', 'back_matter'])"
   ]
  },
  {
   "cell_type": "code",
   "execution_count": 17,
   "metadata": {},
   "outputs": [],
   "source": [
    "def search_body_text(index, keywords, sentence_only):\n",
    "    \"\"\"\n",
    "    Searches a single full length text for sentences/paragraphs which contain a list of keywords.\n",
    "\n",
    "    inputs:\n",
    "      index: index of paper to search from the metadata file\n",
    "      keywords: list of keywords to search for\n",
    "      sentence_only: whether or not to show sentence only or full paragraph\n",
    "    \n",
    "    output: list of sentences/paragraphs found containing keywords\n",
    "    \"\"\"\n",
    "    \n",
    "    #find text location\n",
    "    sha = metadata.iloc[index][\"sha\"]\n",
    "    folder = metadata.iloc[index][\"full_text_file\"]\n",
    "\n",
    "    #open text file\n",
    "    with open(DIR+folder+'/'+folder+'/'+sha+'.json') as f:\n",
    "        file = json.load(f)\n",
    "    \n",
    "    found = []\n",
    "    for text_dict in file[\"body_text\"]:\n",
    "        \n",
    "        #if show_sentence_only, then split the paragraph into sentences, then look for keywords\n",
    "        if sentence_only:\n",
    "            sentences = text_dict[\"text\"].split(\". \")\n",
    "            for sentence in sentences:\n",
    "                count = find_keyword(keywords, sentence)\n",
    "                if count > 0:\n",
    "                    found.append(sentence)\n",
    "                    \n",
    "        #otherwise, show the whole paragraph\n",
    "        else:\n",
    "            count = find_keyword(keywords, text)\n",
    "            if count > 0:\n",
    "                #print(text_dict[\"section\"])\n",
    "                found.append(text_dict[\"text\"])\n",
    "                \n",
    "    return(found)\n"
   ]
  },
  {
   "cell_type": "code",
   "execution_count": 18,
   "metadata": {},
   "outputs": [],
   "source": [
    "def automated_lit_search(metadata, keywords, sentence_only=True):\n",
    "    \"\"\"\n",
    "    Creates a table keyword findings.\n",
    "    \n",
    "    inputs:\n",
    "      metadata: subset of metadata file to search\n",
    "      keywords: list of keywords to search\n",
    "      sentence_only: whether or not to show sentence only or full paragraph\n",
    "    \n",
    "    output: dataframe table of results with columns containing index, title, and text snippet\n",
    "    \"\"\"\n",
    "    results = []\n",
    "    for index in metadata[metadata['has_full_text']].index:\n",
    "        found = search_body_text(index, keywords, sentence_only)\n",
    "        if len(found) > 0:\n",
    "            for f in found:\n",
    "                results.append([index, metadata[\"title\"][index], f])\n",
    "    results_df = pd.DataFrame(results, columns=[\"index\",\"title\",\"text\"])\n",
    "    return(results_df)"
   ]
  },
  {
   "cell_type": "code",
   "execution_count": 19,
   "metadata": {},
   "outputs": [],
   "source": [
    "keywords_epi = ['r0', 'r 0', 'r_0', 'reproduction number', 'growth rate', 'doubling time', 'incubation period']\n",
    "results = automated_lit_search(data_2, keywords_epi, True)\n",
    "#results.to_csv('test.csv', index=False)"
   ]
  },
  {
   "cell_type": "code",
   "execution_count": 20,
   "metadata": {},
   "outputs": [
    {
     "data": {
      "text/html": [
       "<div>\n",
       "<style scoped>\n",
       "    .dataframe tbody tr th:only-of-type {\n",
       "        vertical-align: middle;\n",
       "    }\n",
       "\n",
       "    .dataframe tbody tr th {\n",
       "        vertical-align: top;\n",
       "    }\n",
       "\n",
       "    .dataframe thead th {\n",
       "        text-align: right;\n",
       "    }\n",
       "</style>\n",
       "<table border=\"1\" class=\"dataframe\">\n",
       "  <thead>\n",
       "    <tr style=\"text-align: right;\">\n",
       "      <th></th>\n",
       "      <th>index</th>\n",
       "      <th>title</th>\n",
       "      <th>text</th>\n",
       "    </tr>\n",
       "  </thead>\n",
       "  <tbody>\n",
       "    <tr>\n",
       "      <th>0</th>\n",
       "      <td>7956</td>\n",
       "      <td>COVID-19 and Italy: what next?</td>\n",
       "      <td>On the basis of the exponential curve predicti...</td>\n",
       "    </tr>\n",
       "    <tr>\n",
       "      <th>1</th>\n",
       "      <td>18237</td>\n",
       "      <td>Short-term Forecasts of the COVID-19 Epidemic ...</td>\n",
       "      <td>In the absence of additional information, this...</td>\n",
       "    </tr>\n",
       "    <tr>\n",
       "      <th>2</th>\n",
       "      <td>40109</td>\n",
       "      <td>Analysis of the epidemic growth of the early 2...</td>\n",
       "      <td>With a mean serial interval of 7.5 days, the b...</td>\n",
       "    </tr>\n",
       "    <tr>\n",
       "      <th>3</th>\n",
       "      <td>40109</td>\n",
       "      <td>Analysis of the epidemic growth of the early 2...</td>\n",
       "      <td>Using internationally exported cases from Wuha...</td>\n",
       "    </tr>\n",
       "    <tr>\n",
       "      <th>4</th>\n",
       "      <td>40109</td>\n",
       "      <td>Analysis of the epidemic growth of the early 2...</td>\n",
       "      <td>Other analyses using the series of new confirm...</td>\n",
       "    </tr>\n",
       "  </tbody>\n",
       "</table>\n",
       "</div>"
      ],
      "text/plain": [
       "   index                                              title  \\\n",
       "0   7956                     COVID-19 and Italy: what next?   \n",
       "1  18237  Short-term Forecasts of the COVID-19 Epidemic ...   \n",
       "2  40109  Analysis of the epidemic growth of the early 2...   \n",
       "3  40109  Analysis of the epidemic growth of the early 2...   \n",
       "4  40109  Analysis of the epidemic growth of the early 2...   \n",
       "\n",
       "                                                text  \n",
       "0  On the basis of the exponential curve predicti...  \n",
       "1  In the absence of additional information, this...  \n",
       "2  With a mean serial interval of 7.5 days, the b...  \n",
       "3  Using internationally exported cases from Wuha...  \n",
       "4  Other analyses using the series of new confirm...  "
      ]
     },
     "execution_count": 20,
     "metadata": {},
     "output_type": "execute_result"
    }
   ],
   "source": [
    "results.head()"
   ]
  }
 ],
 "metadata": {
  "kernelspec": {
   "display_name": "Python 3",
   "language": "python",
   "name": "python3"
  },
  "language_info": {
   "codemirror_mode": {
    "name": "ipython",
    "version": 3
   },
   "file_extension": ".py",
   "mimetype": "text/x-python",
   "name": "python",
   "nbconvert_exporter": "python",
   "pygments_lexer": "ipython3",
   "version": "3.7.3"
  }
 },
 "nbformat": 4,
 "nbformat_minor": 4
}

{
 "cells": [
  {
   "cell_type": "code",
   "execution_count": 98,
   "metadata": {},
   "outputs": [],
   "source": [
    "import pandas as pd\n",
    "from nltk.corpus import stopwords\n",
    "from nltk.stem import WordNetLemmatizer \n",
    "from nltk.tokenize import WhitespaceTokenizer\n",
    "from nltk.stem import WordNetLemmatizer\n",
    "import string\n",
    "import json\n",
    "import re"
   ]
  },
  {
   "cell_type": "code",
   "execution_count": 99,
   "metadata": {},
   "outputs": [],
   "source": [
    "pd.set_option('display.max_colwidth', 500)"
   ]
  },
  {
   "cell_type": "code",
   "execution_count": 10,
   "metadata": {},
   "outputs": [
    {
     "name": "stderr",
     "output_type": "stream",
     "text": [
      "[nltk_data] Downloading package stopwords to\n",
      "[nltk_data]     C:\\Users\\mok\\AppData\\Roaming\\nltk_data...\n",
      "[nltk_data]   Package stopwords is already up-to-date!\n",
      "[nltk_data] Downloading package wordnet to\n",
      "[nltk_data]     C:\\Users\\mok\\AppData\\Roaming\\nltk_data...\n",
      "[nltk_data]   Unzipping corpora\\wordnet.zip.\n"
     ]
    },
    {
     "data": {
      "text/plain": [
       "True"
      ]
     },
     "execution_count": 10,
     "metadata": {},
     "output_type": "execute_result"
    }
   ],
   "source": [
    "import nltk\n",
    "nltk.download('stopwords')\n",
    "nltk.download('wordnet')"
   ]
  },
  {
   "cell_type": "markdown",
   "metadata": {},
   "source": [
    "## Import file\n",
    "- Only keep rows with non-null titles and abstracts"
   ]
  },
  {
   "cell_type": "code",
   "execution_count": 3,
   "metadata": {},
   "outputs": [
    {
     "name": "stderr",
     "output_type": "stream",
     "text": [
      "C:\\Users\\mok\\AppData\\Local\\Continuum\\anaconda3\\lib\\site-packages\\IPython\\core\\interactiveshell.py:3058: DtypeWarning: Columns (13) have mixed types. Specify dtype option on import or set low_memory=False.\n",
      "  interactivity=interactivity, compiler=compiler, result=result)\n"
     ]
    }
   ],
   "source": [
    "m = pd.read_csv('./CORD-19-research-challenge/metadata.csv')"
   ]
  },
  {
   "cell_type": "code",
   "execution_count": 4,
   "metadata": {},
   "outputs": [],
   "source": [
    "m = m[(m['title'].notna() & m['abstract'].notna())]"
   ]
  },
  {
   "cell_type": "markdown",
   "metadata": {},
   "source": [
    "## Lemmatize Abstracts and Titles (get word roots)\n",
    "\n",
    "- lowercase\n",
    "- remove punctuation\n",
    "- remove stopwords\n",
    "- get root of words"
   ]
  },
  {
   "cell_type": "code",
   "execution_count": 5,
   "metadata": {},
   "outputs": [],
   "source": [
    "w_tokenizer = WhitespaceTokenizer()\n",
    "lemmatizer = WordNetLemmatizer()"
   ]
  },
  {
   "cell_type": "code",
   "execution_count": 6,
   "metadata": {},
   "outputs": [],
   "source": [
    "def preprocess(sentence):\n",
    "    sentence = sentence.lower()\n",
    "    sentence_no_punctuation = sentence.translate(str.maketrans('', '', string.punctuation))\n",
    "    lemmatized_list = [lemmatizer.lemmatize(w) for w in w_tokenizer.tokenize(sentence_no_punctuation) \n",
    "                  if w not in stopwords.words('english')]\n",
    "    return ' '.join(word for word in lemmatized_list)"
   ]
  },
  {
   "cell_type": "code",
   "execution_count": 14,
   "metadata": {},
   "outputs": [],
   "source": [
    "m['cleanTitle']=m['title'].map(lambda s:preprocess(s)) "
   ]
  },
  {
   "cell_type": "code",
   "execution_count": 15,
   "metadata": {},
   "outputs": [],
   "source": [
    "m['cleanAbstract']=m['abstract'].map(lambda s:preprocess(s)) "
   ]
  },
  {
   "cell_type": "code",
   "execution_count": 16,
   "metadata": {},
   "outputs": [],
   "source": [
    "#m.to_csv('./CORD-19-research-challenge/metadata_lemmatized.csv', index=False)"
   ]
  },
  {
   "cell_type": "code",
   "execution_count": 101,
   "metadata": {},
   "outputs": [],
   "source": [
    "#m = pd.read_csv('./CORD-19-research-challenge/metadata_lemmatized.csv')"
   ]
  },
  {
   "cell_type": "code",
   "execution_count": 104,
   "metadata": {},
   "outputs": [
    {
     "data": {
      "text/plain": [
       "Index(['cord_uid', 'sha', 'source_x', 'title', 'doi', 'pmcid', 'pubmed_id',\n",
       "       'license', 'abstract', 'publish_time', 'authors', 'journal',\n",
       "       'Microsoft Academic Paper ID', 'WHO #Covidence', 'has_pdf_parse',\n",
       "       'has_pmc_xml_parse', 'full_text_file', 'url', 'cleanTitle',\n",
       "       'cleanAbstract'],\n",
       "      dtype='object')"
      ]
     },
     "execution_count": 104,
     "metadata": {},
     "output_type": "execute_result"
    }
   ],
   "source": [
    "m.columns"
   ]
  },
  {
   "cell_type": "code",
   "execution_count": 105,
   "metadata": {},
   "outputs": [
    {
     "data": {
      "text/plain": [
       "(38899, 20)"
      ]
     },
     "execution_count": 105,
     "metadata": {},
     "output_type": "execute_result"
    }
   ],
   "source": [
    "m.shape"
   ]
  },
  {
   "cell_type": "code",
   "execution_count": 129,
   "metadata": {},
   "outputs": [
    {
     "data": {
      "text/plain": [
       "(3628, 21)"
      ]
     },
     "execution_count": 129,
     "metadata": {},
     "output_type": "execute_result"
    }
   ],
   "source": [
    "date_filter = '2019-12-01'\n",
    "m[m['publish_time']>date_filter].shape"
   ]
  },
  {
   "cell_type": "markdown",
   "metadata": {},
   "source": [
    "## Keywords\n",
    "\n",
    "- Need a core covid keyword\n",
    "- And need a topic keyword\n",
    "\n",
    "## Make sure keywords are lemmatized version"
   ]
  },
  {
   "cell_type": "code",
   "execution_count": 18,
   "metadata": {},
   "outputs": [],
   "source": [
    "check_words = ['isolation',\n",
    "                'social',\n",
    "                'distancing',\n",
    "                'contact',\n",
    "                'tracing',\n",
    "                'event',\n",
    "                'cancelation',\n",
    "                'case',\n",
    "                'isolation',\n",
    "                'shelter',\n",
    "                'place', \n",
    "                'stay',\n",
    "                'home', \n",
    "                'movement',\n",
    "                'restriction',\n",
    "                'economic', \n",
    "                'unemployment',\n",
    "                'depression',\n",
    "                'financial',\n",
    "                'crisis',\n",
    "                'market',\n",
    "                'stock',\n",
    "                'macroeconomics',\n",
    "                'dsge',\n",
    "                'face',\n",
    "                'facial',\n",
    "                'mask',\n",
    "                'travel',\n",
    "                'ban',\n",
    "                'school',\n",
    "                'closure'] "
   ]
  },
  {
   "cell_type": "code",
   "execution_count": 19,
   "metadata": {
    "scrolled": false
   },
   "outputs": [
    {
     "data": {
      "text/plain": [
       "[]"
      ]
     },
     "execution_count": 19,
     "metadata": {},
     "output_type": "execute_result"
    }
   ],
   "source": [
    "[lemmatizer.lemmatize(w) for w in check_words if lemmatizer.lemmatize(w) != w]"
   ]
  },
  {
   "cell_type": "markdown",
   "metadata": {},
   "source": [
    "## Confirmation all words at root word"
   ]
  },
  {
   "cell_type": "code",
   "execution_count": 20,
   "metadata": {},
   "outputs": [],
   "source": [
    "covid_keywords = ['corona', 'covid']"
   ]
  },
  {
   "cell_type": "code",
   "execution_count": 21,
   "metadata": {},
   "outputs": [],
   "source": [
    "intervention_keywords = [#'isolation', #can't use - too broad \n",
    "         # i.e. isolation of sequences from a random-sequence expression library that mimic viral epitopes\n",
    "                        'social distancing',\n",
    "                        'contact tracing',\n",
    "                        'case isolation',\n",
    "                        'shelter place', # in/at is removed stopword\n",
    "                        'stay home', # at is removed stopword\n",
    "                        'movement restriction',\n",
    "                        'event cancellation',\n",
    "                        'face mask',\n",
    "                        'facial mask',\n",
    "                        'travel ban',\n",
    "                        'school closure']"
   ]
  },
  {
   "cell_type": "code",
   "execution_count": 22,
   "metadata": {},
   "outputs": [],
   "source": [
    "economic_keywords = ['economic', \n",
    "                    'unemployment',\n",
    "                     'unemploy',\n",
    "                   # 'depression', # mental health articles here\n",
    "                # i.e. 148. acute bipolar disorder depression is associated with immune activation\n",
    "                    'financial crisis',\n",
    "                  #  'market', # related to physical markets\n",
    "            # i.e. wet markets—a continuing source of severe acute respiratory syndrome and influenza?\n",
    "                #    ' stock', # often completly unrelated (or related to livestock if no space)\n",
    "            # i.e. plaque assay for human coronavirus nl63 using human colon carcinoma cells\n",
    "                    'stock market',\n",
    "                    'macroeconomics',\n",
    "                    'dsge']"
   ]
  },
  {
   "cell_type": "markdown",
   "metadata": {},
   "source": [
    "## Create Functions"
   ]
  },
  {
   "cell_type": "code",
   "execution_count": 23,
   "metadata": {},
   "outputs": [],
   "source": [
    "def find_papers_w_keywords(topic_keywords, papers):\n",
    "    for keyword in topic_keywords:\n",
    "        num_papers_title = len(papers[(papers['cleanTitle'].str.contains(keyword)) & \n",
    "                                        (papers['cleanTitle'])])\n",
    "        num_papers_abstract = len(papers[papers['cleanAbstract'].str.contains(keyword)])\n",
    "        print ('Identified {} papers with \"{}\" in title, {} relevant papers with \"{}\" in abstract'\\\n",
    "                       .format(num_papers_title, keyword, num_papers_abstract, keyword)) "
   ]
  },
  {
   "cell_type": "code",
   "execution_count": 106,
   "metadata": {},
   "outputs": [],
   "source": [
    "# 0 for title search, 1 for abstract search\n",
    "def return_papers(topic_keywords, papers, abstract_search=1):\n",
    "    relevant_papers = pd.DataFrame(columns=['title', 'abstract', 'sha', 'full_text_file', 'has_pdf_parse', 'has_pmc_xml_parse', 'publish_time'])\n",
    "    if abstract_search == 1:\n",
    "        for keyword in topic_keywords:\n",
    "            relevant_papers = pd.concat((relevant_papers, papers[['title', 'abstract', \n",
    "                                'sha', 'full_text_file', 'has_pdf_parse', 'has_pmc_xml_parse', 'publish_time']][papers['cleanAbstract'].str.contains(keyword)]))\n",
    "    else:\n",
    "        for keyword in topic_keywords:\n",
    "            relevant_papers = pd.concat((relevant_papers, papers[['title', 'abstract', \n",
    "                        'sha', 'full_text_file', 'has_pdf_parse', 'has_pmc_xml_parse', 'publish_time']][papers['cleanTitle'].str.contains(keyword)]))\n",
    "    \n",
    "    return relevant_papers.drop_duplicates()"
   ]
  },
  {
   "cell_type": "markdown",
   "metadata": {},
   "source": [
    "## Identify core papers"
   ]
  },
  {
   "cell_type": "code",
   "execution_count": 107,
   "metadata": {
    "scrolled": true
   },
   "outputs": [
    {
     "name": "stdout",
     "output_type": "stream",
     "text": [
      "Identified 5207 papers with \"corona\" in title, 8427 relevant papers with \"corona\" in abstract\n",
      "Identified 1124 papers with \"covid\" in title, 1547 relevant papers with \"covid\" in abstract\n"
     ]
    }
   ],
   "source": [
    "find_papers_w_keywords(covid_keywords, m)"
   ]
  },
  {
   "cell_type": "code",
   "execution_count": 108,
   "metadata": {},
   "outputs": [],
   "source": [
    "m['core_abstract'] = m['cleanAbstract'].apply(lambda x: any([k in x for k in covid_keywords]))"
   ]
  },
  {
   "cell_type": "code",
   "execution_count": 109,
   "metadata": {},
   "outputs": [
    {
     "data": {
      "text/plain": [
       "(38899, 8965)"
      ]
     },
     "execution_count": 109,
     "metadata": {},
     "output_type": "execute_result"
    }
   ],
   "source": [
    "len(m), len(m[m['core_abstract'] == True])"
   ]
  },
  {
   "cell_type": "code",
   "execution_count": 110,
   "metadata": {},
   "outputs": [],
   "source": [
    "covid_papers = m[m['core_abstract'] == True]"
   ]
  },
  {
   "cell_type": "markdown",
   "metadata": {},
   "source": [
    "## Intervention Papers\n"
   ]
  },
  {
   "cell_type": "code",
   "execution_count": 111,
   "metadata": {
    "scrolled": false
   },
   "outputs": [
    {
     "name": "stdout",
     "output_type": "stream",
     "text": [
      "Identified 9 papers with \"social distancing\" in title, 73 relevant papers with \"social distancing\" in abstract\n",
      "Identified 7 papers with \"contact tracing\" in title, 54 relevant papers with \"contact tracing\" in abstract\n",
      "Identified 1 papers with \"case isolation\" in title, 7 relevant papers with \"case isolation\" in abstract\n",
      "Identified 0 papers with \"shelter place\" in title, 2 relevant papers with \"shelter place\" in abstract\n",
      "Identified 0 papers with \"stay home\" in title, 5 relevant papers with \"stay home\" in abstract\n",
      "Identified 0 papers with \"movement restriction\" in title, 4 relevant papers with \"movement restriction\" in abstract\n",
      "Identified 1 papers with \"event cancellation\" in title, 3 relevant papers with \"event cancellation\" in abstract\n",
      "Identified 0 papers with \"face mask\" in title, 14 relevant papers with \"face mask\" in abstract\n",
      "Identified 0 papers with \"facial mask\" in title, 1 relevant papers with \"facial mask\" in abstract\n",
      "Identified 2 papers with \"travel ban\" in title, 14 relevant papers with \"travel ban\" in abstract\n",
      "Identified 2 papers with \"school closure\" in title, 11 relevant papers with \"school closure\" in abstract\n"
     ]
    }
   ],
   "source": [
    "find_papers_w_keywords(intervention_keywords, covid_papers)"
   ]
  },
  {
   "cell_type": "code",
   "execution_count": 112,
   "metadata": {},
   "outputs": [],
   "source": [
    "intervention_papers = return_papers(intervention_keywords, covid_papers, 1)"
   ]
  },
  {
   "cell_type": "code",
   "execution_count": 113,
   "metadata": {
    "scrolled": false
   },
   "outputs": [
    {
     "data": {
      "text/plain": [
       "163"
      ]
     },
     "execution_count": 113,
     "metadata": {},
     "output_type": "execute_result"
    }
   ],
   "source": [
    "len(intervention_papers)"
   ]
  },
  {
   "cell_type": "code",
   "execution_count": 130,
   "metadata": {},
   "outputs": [
    {
     "data": {
      "text/plain": [
       "140"
      ]
     },
     "execution_count": 130,
     "metadata": {},
     "output_type": "execute_result"
    }
   ],
   "source": [
    "intervention_papers = intervention_papers[intervention_papers['publish_time']>date_filter]\n",
    "len(intervention_papers)"
   ]
  },
  {
   "cell_type": "code",
   "execution_count": 131,
   "metadata": {
    "scrolled": false
   },
   "outputs": [
    {
     "data": {
      "text/html": [
       "<div>\n",
       "<style scoped>\n",
       "    .dataframe tbody tr th:only-of-type {\n",
       "        vertical-align: middle;\n",
       "    }\n",
       "\n",
       "    .dataframe tbody tr th {\n",
       "        vertical-align: top;\n",
       "    }\n",
       "\n",
       "    .dataframe thead th {\n",
       "        text-align: right;\n",
       "    }\n",
       "</style>\n",
       "<table border=\"1\" class=\"dataframe\">\n",
       "  <thead>\n",
       "    <tr style=\"text-align: right;\">\n",
       "      <th></th>\n",
       "      <th>title</th>\n",
       "      <th>abstract</th>\n",
       "      <th>sha</th>\n",
       "      <th>full_text_file</th>\n",
       "      <th>has_pdf_parse</th>\n",
       "      <th>has_pmc_xml_parse</th>\n",
       "      <th>publish_time</th>\n",
       "    </tr>\n",
       "  </thead>\n",
       "  <tbody>\n",
       "    <tr>\n",
       "      <td>2254</td>\n",
       "      <td>Coronavirus Disease 2019 (COVID-19) Pandemic and Pregnancy</td>\n",
       "      <td>Abstract The current coronavirus disease 2019 (COVID-19) pneumonia pandemic, caused by the severe acute respiratory syndrome 2 (SARS-CoV-2) virus, is spreading globally at an accelerated rate, with a basic reproduction number (R0) of 2 – 2.5, indicating that 2 – 3 persons will be infected from an index patient. A serious public health emergency, it is particularly deadly in vulnerable populations and communities in which healthcare providers are insufficiently prepared to manage the infectio...</td>\n",
       "      <td>5dc4268a42adf3d5c55c87b7f6518de600b057c5</td>\n",
       "      <td>custom_license</td>\n",
       "      <td>True</td>\n",
       "      <td>False</td>\n",
       "      <td>2020-03-23</td>\n",
       "    </tr>\n",
       "    <tr>\n",
       "      <td>3836</td>\n",
       "      <td>COVID-19 and Italy: what next?</td>\n",
       "      <td>Summary The spread of severe acute respiratory syndrome coronavirus 2 (SARS-CoV-2) has already taken on pandemic proportions, affecting over 100 countries in a matter of weeks. A global response to prepare health systems worldwide is imperative. Although containment measures in China have reduced new cases by more than 90%, this reduction is not the case elsewhere, and Italy has been particularly affected. There is now grave concern regarding the Italian national health system's capacity to ...</td>\n",
       "      <td>849f0d4e93647e40b3a6f0841ebb2dd6a890a6b7</td>\n",
       "      <td>custom_license</td>\n",
       "      <td>True</td>\n",
       "      <td>False</td>\n",
       "      <td>2020-03-13</td>\n",
       "    </tr>\n",
       "    <tr>\n",
       "      <td>7308</td>\n",
       "      <td>Unknown unknowns – COVID-19 and potential global mortality</td>\n",
       "      <td>Abstract COVID-19 (SARS-CoV-2) is currently a global pandemic. This paper will attempt to estimate global infection rates and potential resultant mortality in the absence of effective treatment and/or vaccination. Calculations are based on World Health Organisation data from Wuhan in China: 14% of infected cases are severe, 5% require intensive care and 4% die. Estimated infection rates and mortality rates at the level of continents and some individual countries (when these are of sufficient...</td>\n",
       "      <td>b039cc050d0d94bf4783a550e68f3a0ce2f1f796</td>\n",
       "      <td>custom_license</td>\n",
       "      <td>True</td>\n",
       "      <td>False</td>\n",
       "      <td>2020-03-31</td>\n",
       "    </tr>\n",
       "    <tr>\n",
       "      <td>7914</td>\n",
       "      <td>Using psychoneuroimmunity against COVID-19</td>\n",
       "      <td>Abstract The worldwide outbreak of coronavirus disease 2019 (COVID-19) raises concerns of widespread panic and anxiety in individuals subjected to the real or perceived threat of the virus. Compared to general populations, patients who are institutionalized in a closed unit are also very vulnerable to COVID-19 infection and complications. This crisis touched on difficult issues of not only psychiatric care and ethics, but also psychological impacts to psychiatric care givers. In this Viewpoi...</td>\n",
       "      <td>4f47977f3202bca320c42ccbe3e0432c8bfab2f5</td>\n",
       "      <td>custom_license</td>\n",
       "      <td>True</td>\n",
       "      <td>False</td>\n",
       "      <td>2020-03-29</td>\n",
       "    </tr>\n",
       "    <tr>\n",
       "      <td>9429</td>\n",
       "      <td>Transmission potential and severity of COVID-19 in South Korea</td>\n",
       "      <td>Abstract Objectives Since the first case of 2019 novel coronavirus (COVID-19) identified on Jan 20, 2020 in South Korea, the number of cases rapidly increased, resulting in 6,284 cases including 42 deaths as of March 6, 2020. To examine the growth rate of the outbreak, we aimed to present the first study to report the reproduction number of COVID-19 in South Korea. Methods The daily confirmed cases of COVID-19 in South Korea were extracted from publicly available sources. By using the empiri...</td>\n",
       "      <td>1aed8cc899c77553312d72e2ec022fd77e50b4fb</td>\n",
       "      <td>custom_license</td>\n",
       "      <td>True</td>\n",
       "      <td>False</td>\n",
       "      <td>2020-03-18</td>\n",
       "    </tr>\n",
       "  </tbody>\n",
       "</table>\n",
       "</div>"
      ],
      "text/plain": [
       "                                                               title  \\\n",
       "2254      Coronavirus Disease 2019 (COVID-19) Pandemic and Pregnancy   \n",
       "3836                                  COVID-19 and Italy: what next?   \n",
       "7308      Unknown unknowns – COVID-19 and potential global mortality   \n",
       "7914                      Using psychoneuroimmunity against COVID-19   \n",
       "9429  Transmission potential and severity of COVID-19 in South Korea   \n",
       "\n",
       "                                                                                                                                                                                                                                                                                                                                                                                                                                                                                                                 abstract  \\\n",
       "2254  Abstract The current coronavirus disease 2019 (COVID-19) pneumonia pandemic, caused by the severe acute respiratory syndrome 2 (SARS-CoV-2) virus, is spreading globally at an accelerated rate, with a basic reproduction number (R0) of 2 – 2.5, indicating that 2 – 3 persons will be infected from an index patient. A serious public health emergency, it is particularly deadly in vulnerable populations and communities in which healthcare providers are insufficiently prepared to manage the infectio...   \n",
       "3836  Summary The spread of severe acute respiratory syndrome coronavirus 2 (SARS-CoV-2) has already taken on pandemic proportions, affecting over 100 countries in a matter of weeks. A global response to prepare health systems worldwide is imperative. Although containment measures in China have reduced new cases by more than 90%, this reduction is not the case elsewhere, and Italy has been particularly affected. There is now grave concern regarding the Italian national health system's capacity to ...   \n",
       "7308  Abstract COVID-19 (SARS-CoV-2) is currently a global pandemic. This paper will attempt to estimate global infection rates and potential resultant mortality in the absence of effective treatment and/or vaccination. Calculations are based on World Health Organisation data from Wuhan in China: 14% of infected cases are severe, 5% require intensive care and 4% die. Estimated infection rates and mortality rates at the level of continents and some individual countries (when these are of sufficient...   \n",
       "7914  Abstract The worldwide outbreak of coronavirus disease 2019 (COVID-19) raises concerns of widespread panic and anxiety in individuals subjected to the real or perceived threat of the virus. Compared to general populations, patients who are institutionalized in a closed unit are also very vulnerable to COVID-19 infection and complications. This crisis touched on difficult issues of not only psychiatric care and ethics, but also psychological impacts to psychiatric care givers. In this Viewpoi...   \n",
       "9429  Abstract Objectives Since the first case of 2019 novel coronavirus (COVID-19) identified on Jan 20, 2020 in South Korea, the number of cases rapidly increased, resulting in 6,284 cases including 42 deaths as of March 6, 2020. To examine the growth rate of the outbreak, we aimed to present the first study to report the reproduction number of COVID-19 in South Korea. Methods The daily confirmed cases of COVID-19 in South Korea were extracted from publicly available sources. By using the empiri...   \n",
       "\n",
       "                                           sha  full_text_file has_pdf_parse  \\\n",
       "2254  5dc4268a42adf3d5c55c87b7f6518de600b057c5  custom_license          True   \n",
       "3836  849f0d4e93647e40b3a6f0841ebb2dd6a890a6b7  custom_license          True   \n",
       "7308  b039cc050d0d94bf4783a550e68f3a0ce2f1f796  custom_license          True   \n",
       "7914  4f47977f3202bca320c42ccbe3e0432c8bfab2f5  custom_license          True   \n",
       "9429  1aed8cc899c77553312d72e2ec022fd77e50b4fb  custom_license          True   \n",
       "\n",
       "     has_pmc_xml_parse publish_time  \n",
       "2254             False   2020-03-23  \n",
       "3836             False   2020-03-13  \n",
       "7308             False   2020-03-31  \n",
       "7914             False   2020-03-29  \n",
       "9429             False   2020-03-18  "
      ]
     },
     "execution_count": 131,
     "metadata": {},
     "output_type": "execute_result"
    }
   ],
   "source": [
    "intervention_papers.head()"
   ]
  },
  {
   "cell_type": "code",
   "execution_count": 132,
   "metadata": {},
   "outputs": [],
   "source": [
    "intervention_papers.to_csv(\"intervention_abstracts.csv\", index=False)"
   ]
  },
  {
   "cell_type": "markdown",
   "metadata": {},
   "source": [
    "## Economic Papers"
   ]
  },
  {
   "cell_type": "code",
   "execution_count": 133,
   "metadata": {
    "scrolled": true
   },
   "outputs": [
    {
     "name": "stdout",
     "output_type": "stream",
     "text": [
      "Identified 10 papers with \"economic\" in title, 290 relevant papers with \"economic\" in abstract\n",
      "Identified 0 papers with \"unemployment\" in title, 0 relevant papers with \"unemployment\" in abstract\n",
      "Identified 0 papers with \"unemploy\" in title, 0 relevant papers with \"unemploy\" in abstract\n",
      "Identified 0 papers with \"financial crisis\" in title, 0 relevant papers with \"financial crisis\" in abstract\n",
      "Identified 0 papers with \"stock market\" in title, 0 relevant papers with \"stock market\" in abstract\n",
      "Identified 0 papers with \"macroeconomics\" in title, 1 relevant papers with \"macroeconomics\" in abstract\n",
      "Identified 0 papers with \"dsge\" in title, 0 relevant papers with \"dsge\" in abstract\n"
     ]
    }
   ],
   "source": [
    "find_papers_w_keywords(economic_keywords, covid_papers)"
   ]
  },
  {
   "cell_type": "code",
   "execution_count": 134,
   "metadata": {},
   "outputs": [],
   "source": [
    "economic_papers = return_papers(economic_keywords, covid_papers, 1)"
   ]
  },
  {
   "cell_type": "code",
   "execution_count": 135,
   "metadata": {
    "scrolled": true
   },
   "outputs": [
    {
     "data": {
      "text/plain": [
       "290"
      ]
     },
     "execution_count": 135,
     "metadata": {},
     "output_type": "execute_result"
    }
   ],
   "source": [
    "len(economic_papers)"
   ]
  },
  {
   "cell_type": "code",
   "execution_count": 136,
   "metadata": {},
   "outputs": [
    {
     "data": {
      "text/plain": [
       "80"
      ]
     },
     "execution_count": 136,
     "metadata": {},
     "output_type": "execute_result"
    }
   ],
   "source": [
    "economic_papers = economic_papers[economic_papers['publish_time']>date_filter]\n",
    "len(economic_papers)"
   ]
  },
  {
   "cell_type": "code",
   "execution_count": 137,
   "metadata": {},
   "outputs": [
    {
     "data": {
      "text/html": [
       "<div>\n",
       "<style scoped>\n",
       "    .dataframe tbody tr th:only-of-type {\n",
       "        vertical-align: middle;\n",
       "    }\n",
       "\n",
       "    .dataframe tbody tr th {\n",
       "        vertical-align: top;\n",
       "    }\n",
       "\n",
       "    .dataframe thead th {\n",
       "        text-align: right;\n",
       "    }\n",
       "</style>\n",
       "<table border=\"1\" class=\"dataframe\">\n",
       "  <thead>\n",
       "    <tr style=\"text-align: right;\">\n",
       "      <th></th>\n",
       "      <th>title</th>\n",
       "      <th>abstract</th>\n",
       "      <th>sha</th>\n",
       "      <th>full_text_file</th>\n",
       "      <th>has_pdf_parse</th>\n",
       "      <th>has_pmc_xml_parse</th>\n",
       "      <th>publish_time</th>\n",
       "    </tr>\n",
       "  </thead>\n",
       "  <tbody>\n",
       "    <tr>\n",
       "      <td>1650</td>\n",
       "      <td>Human Coronaviruses: General Features</td>\n",
       "      <td>Abstract Human coronaviruses (HCoVs), including HCoV-229E, HCoV-OC43, HCoV-NL63, and HCoV-HKU1, are traditionally known to cause symptoms of common cold with only moderate clinical impact. Severe acute respiratory syndrome coronavirus (SARS-CoV) and Middle East respiratory syndrome coronavirus (MERS-CoV), on the other hand, have strike humans in the past two decades as highly fatal human pathogens leading to considerable mortality and economic loss. This article summaries the updates on the ...</td>\n",
       "      <td>90798ce4da0c11f8eba3a943743b0a1584ff046a</td>\n",
       "      <td>custom_license</td>\n",
       "      <td>True</td>\n",
       "      <td>False</td>\n",
       "      <td>2019-12-31</td>\n",
       "    </tr>\n",
       "    <tr>\n",
       "      <td>1892</td>\n",
       "      <td>Chapter 3 Infectious Bronchitis Virus in Poultry: Molecular Epidemiology and Factors Leading to the Emergence and Reemergence of Novel Strains of Infectious Bronchitis Virus</td>\n",
       "      <td>Abstract Infectious bronchitis virus (IBV) is a coronavirus that causes an acute and highly contagious disease in chickens. The virus can cause substantial economic losses throughout the poultry industry worldwide. It can affect the upper respiratory tract and the reproductive tract, and some strains can cause nephritis. The causative agent IBV is an RNA virus with great ability for mutation and recombination, thus capable of generating new virus strains that are difficult to control. There ...</td>\n",
       "      <td>a0de24c5fdb4a0e77b1b5e8c002ced81ebe9b227</td>\n",
       "      <td>custom_license</td>\n",
       "      <td>True</td>\n",
       "      <td>False</td>\n",
       "      <td>2020-12-31</td>\n",
       "    </tr>\n",
       "    <tr>\n",
       "      <td>2254</td>\n",
       "      <td>Coronavirus Disease 2019 (COVID-19) Pandemic and Pregnancy</td>\n",
       "      <td>Abstract The current coronavirus disease 2019 (COVID-19) pneumonia pandemic, caused by the severe acute respiratory syndrome 2 (SARS-CoV-2) virus, is spreading globally at an accelerated rate, with a basic reproduction number (R0) of 2 – 2.5, indicating that 2 – 3 persons will be infected from an index patient. A serious public health emergency, it is particularly deadly in vulnerable populations and communities in which healthcare providers are insufficiently prepared to manage the infectio...</td>\n",
       "      <td>5dc4268a42adf3d5c55c87b7f6518de600b057c5</td>\n",
       "      <td>custom_license</td>\n",
       "      <td>True</td>\n",
       "      <td>False</td>\n",
       "      <td>2020-03-23</td>\n",
       "    </tr>\n",
       "    <tr>\n",
       "      <td>2681</td>\n",
       "      <td>Protective effects of hypericin against infectious bronchitis virus induced apoptosis and reactive oxygen species in chicken embryo kidney cells</td>\n",
       "      <td>ABSTRACT Avian infectious bronchitis virus (IBV), a coronavirus, causes infectious bronchitis leading to enormous economic loss in the poultry industry worldwide. Hypericin (HY) is an excellent compound that has been investigated in antiviral, antineoplastic, and antidepressant. To investigate the inhibition effect of HY on IBV infection in chicken embryo kidney (CEK) cells, 3 different experimental designs: pre-treatment of cells prior to IBV infection, direct treatment of IBV-infected cell...</td>\n",
       "      <td>f48acaa9b87ab31e2be26149983fd243c4a9be6f</td>\n",
       "      <td>custom_license</td>\n",
       "      <td>True</td>\n",
       "      <td>False</td>\n",
       "      <td>2019-12-31</td>\n",
       "    </tr>\n",
       "    <tr>\n",
       "      <td>4174</td>\n",
       "      <td>The psychological impact of the COVID-19 epidemic on college students in China</td>\n",
       "      <td>Abstract A COVID-19 epidemic has been spreading in China and other parts of the world since December 2019. The epidemic has brought not only the risk of death from infection but also unbearable psychological pressure. We sampled college students from Changzhi medical college by using cluster sampling. They responded to a questionnaire packet that included the 7-item Generalized Anxiety Disorder Scale (GAD-7) and those inquiring the participants’ basic information. We received 7,143 responses...</td>\n",
       "      <td>abca4179b3826ec453deacc4aed1030a0ded2700</td>\n",
       "      <td>custom_license</td>\n",
       "      <td>True</td>\n",
       "      <td>False</td>\n",
       "      <td>2020-03-20</td>\n",
       "    </tr>\n",
       "    <tr>\n",
       "      <td>...</td>\n",
       "      <td>...</td>\n",
       "      <td>...</td>\n",
       "      <td>...</td>\n",
       "      <td>...</td>\n",
       "      <td>...</td>\n",
       "      <td>...</td>\n",
       "      <td>...</td>\n",
       "    </tr>\n",
       "    <tr>\n",
       "      <td>36243</td>\n",
       "      <td>The deadly coronaviruses: The 2003 SARS pandemic and the 2020 novel coronavirus epidemic in China</td>\n",
       "      <td>Abstract The 2019-nCoV is officially called SARS-CoV-2 and the disease is named COVID-19. This viral epidemic in China has led to the deaths of over 1800 people, mostly elderly or those with an underlying chronic disease or immunosuppressed state. This is the third serious Coronavirus outbreak in less than 20 years, following SARS in 2002–2003 and MERS in 2012. While human strains of Coronavirus are associated with about 15% of cases of the common cold, the SARS-CoV-2 may present with varyin...</td>\n",
       "      <td>cd4f5118038ae33283d34a15f8c3888f00e247bc</td>\n",
       "      <td>custom_license</td>\n",
       "      <td>True</td>\n",
       "      <td>False</td>\n",
       "      <td>2020-03-03</td>\n",
       "    </tr>\n",
       "    <tr>\n",
       "      <td>36699</td>\n",
       "      <td>Assessing the Impact of Reduced Travel on Exportation Dynamics of Novel Coronavirus Infection (COVID-19)</td>\n",
       "      <td>The impact of the drastic reduction in travel volume within mainland China in January and February 2020 was quantified with respect to reports of novel coronavirus (COVID-19) infections outside China. Data on confirmed cases diagnosed outside China were analyzed using statistical models to estimate the impact of travel reduction on three epidemiological outcome measures: (i) the number of exported cases, (ii) the probability of a major epidemic, and (iii) the time delay to a major epidemic. ...</td>\n",
       "      <td>a6ce4ce12c7af1cfb4d71764b963285b687e6b51</td>\n",
       "      <td>comm_use_subset</td>\n",
       "      <td>True</td>\n",
       "      <td>True</td>\n",
       "      <td>2020-02-24</td>\n",
       "    </tr>\n",
       "    <tr>\n",
       "      <td>36733</td>\n",
       "      <td>Influence of trust on two different risk perceptions as an affective and cognitive dimension during Middle East respiratory syndrome coronavirus (MERS-CoV) outbreak in South Korea: serial cross-sectional surveys</td>\n",
       "      <td>OBJECTIVES: This study aimed to assess the affective and cognitive risk perceptions in the general population of Middle East respiratory syndrome (MERS) during the 2015 MERS coronavirus (MERS-CoV) outbreak in South Korea and the influencing factors. DESIGN: Serial cross-sectional design with four consecutive surveys. SETTING: Nationwide general population in South Korea. PARTICIPANTS: Overall 4010 respondents (aged 19 years and over) from the general population during the MERS-CoV epidemic w...</td>\n",
       "      <td>ee1da1dd024af358c92cfc92d1c1db60a5697771; d8a96ab6656a38b3c9380673aefaed8784982a11; 65bfb70c8de73d1e0100a181eb7ae6ee9a06e53a</td>\n",
       "      <td>noncomm_use_subset</td>\n",
       "      <td>True</td>\n",
       "      <td>True</td>\n",
       "      <td>2020-03-04</td>\n",
       "    </tr>\n",
       "    <tr>\n",
       "      <td>38154</td>\n",
       "      <td>SARS-CoV-2 is an appropriate name for the new coronavirus</td>\n",
       "      <td>We have read with great interest the Correspondence by Shibo Jiang and colleagues,1 in which they propose a name change for the newly emerged coronavirus,2 which was recently designated severe acute respiratory syndrome coronavirus 2 (SARS-CoV-2) by the Coronavirus Study Group of the International Committee on Taxonomy of Viruses.3 The authors argued that the use of SARS in the virus name could confuse the public about the disease that it causes; in addition, they noted that the name SARS-Co...</td>\n",
       "      <td>6dde340deadeeaaef0533b4e5f15f8deff71510a</td>\n",
       "      <td>custom_license</td>\n",
       "      <td>True</td>\n",
       "      <td>False</td>\n",
       "      <td>2020-03-06</td>\n",
       "    </tr>\n",
       "    <tr>\n",
       "      <td>38871</td>\n",
       "      <td>Swine acute diarrhea syndrome coronavirus (SADS-CoV) antagonizes interferon-β production via blocking IPS-1 and RIG-I</td>\n",
       "      <td>Abstract Swine acute diarrhea syndrome coronavirus (SADS-CoV), a newly emerging enteric coronavirus, is considered to be associated with swine acute diarrhea syndrome (SADS) which has caused significantly economic losses to the porcine industry. Interactions between SADS-CoV and the host innate immune response is unclear yet. In this study, we used IPEC-J2 cells as a model to explore potential evasion strategies employed by SADS-CoV. Our results showed that SADS-CoV infection failed to induc...</td>\n",
       "      <td>f6525bc180629aca4b0760e0ff9f187f2e2a6fec</td>\n",
       "      <td>custom_license</td>\n",
       "      <td>True</td>\n",
       "      <td>False</td>\n",
       "      <td>2020-03-31</td>\n",
       "    </tr>\n",
       "  </tbody>\n",
       "</table>\n",
       "<p>74 rows × 7 columns</p>\n",
       "</div>"
      ],
      "text/plain": [
       "                                                                                                                                                                                                                     title  \\\n",
       "1650                                                                                                                                                                                 Human Coronaviruses: General Features   \n",
       "1892                                         Chapter 3 Infectious Bronchitis Virus in Poultry: Molecular Epidemiology and Factors Leading to the Emergence and Reemergence of Novel Strains of Infectious Bronchitis Virus   \n",
       "2254                                                                                                                                                            Coronavirus Disease 2019 (COVID-19) Pandemic and Pregnancy   \n",
       "2681                                                                      Protective effects of hypericin against infectious bronchitis virus induced apoptosis and reactive oxygen species in chicken embryo kidney cells   \n",
       "4174                                                                                                                                        The psychological impact of the COVID-19 epidemic on college students in China   \n",
       "...                                                                                                                                                                                                                    ...   \n",
       "36243                                                                                                                    The deadly coronaviruses: The 2003 SARS pandemic and the 2020 novel coronavirus epidemic in China   \n",
       "36699                                                                                                             Assessing the Impact of Reduced Travel on Exportation Dynamics of Novel Coronavirus Infection (COVID-19)   \n",
       "36733  Influence of trust on two different risk perceptions as an affective and cognitive dimension during Middle East respiratory syndrome coronavirus (MERS-CoV) outbreak in South Korea: serial cross-sectional surveys   \n",
       "38154                                                                                                                                                            SARS-CoV-2 is an appropriate name for the new coronavirus   \n",
       "38871                                                                                                Swine acute diarrhea syndrome coronavirus (SADS-CoV) antagonizes interferon-β production via blocking IPS-1 and RIG-I   \n",
       "\n",
       "                                                                                                                                                                                                                                                                                                                                                                                                                                                                                                                  abstract  \\\n",
       "1650   Abstract Human coronaviruses (HCoVs), including HCoV-229E, HCoV-OC43, HCoV-NL63, and HCoV-HKU1, are traditionally known to cause symptoms of common cold with only moderate clinical impact. Severe acute respiratory syndrome coronavirus (SARS-CoV) and Middle East respiratory syndrome coronavirus (MERS-CoV), on the other hand, have strike humans in the past two decades as highly fatal human pathogens leading to considerable mortality and economic loss. This article summaries the updates on the ...   \n",
       "1892   Abstract Infectious bronchitis virus (IBV) is a coronavirus that causes an acute and highly contagious disease in chickens. The virus can cause substantial economic losses throughout the poultry industry worldwide. It can affect the upper respiratory tract and the reproductive tract, and some strains can cause nephritis. The causative agent IBV is an RNA virus with great ability for mutation and recombination, thus capable of generating new virus strains that are difficult to control. There ...   \n",
       "2254   Abstract The current coronavirus disease 2019 (COVID-19) pneumonia pandemic, caused by the severe acute respiratory syndrome 2 (SARS-CoV-2) virus, is spreading globally at an accelerated rate, with a basic reproduction number (R0) of 2 – 2.5, indicating that 2 – 3 persons will be infected from an index patient. A serious public health emergency, it is particularly deadly in vulnerable populations and communities in which healthcare providers are insufficiently prepared to manage the infectio...   \n",
       "2681   ABSTRACT Avian infectious bronchitis virus (IBV), a coronavirus, causes infectious bronchitis leading to enormous economic loss in the poultry industry worldwide. Hypericin (HY) is an excellent compound that has been investigated in antiviral, antineoplastic, and antidepressant. To investigate the inhibition effect of HY on IBV infection in chicken embryo kidney (CEK) cells, 3 different experimental designs: pre-treatment of cells prior to IBV infection, direct treatment of IBV-infected cell...   \n",
       "4174   Abstract A COVID-19 epidemic has been spreading in China and other parts of the world since December 2019. The epidemic has brought not only the risk of death from infection but also unbearable psychological pressure. We sampled college students from Changzhi medical college by using cluster sampling. They responded to a questionnaire packet that included the 7-item Generalized Anxiety Disorder Scale (GAD-7) and those inquiring the participants’ basic information. We received 7,143 responses...   \n",
       "...                                                                                                                                                                                                                                                                                                                                                                                                                                                                                                                    ...   \n",
       "36243  Abstract The 2019-nCoV is officially called SARS-CoV-2 and the disease is named COVID-19. This viral epidemic in China has led to the deaths of over 1800 people, mostly elderly or those with an underlying chronic disease or immunosuppressed state. This is the third serious Coronavirus outbreak in less than 20 years, following SARS in 2002–2003 and MERS in 2012. While human strains of Coronavirus are associated with about 15% of cases of the common cold, the SARS-CoV-2 may present with varyin...   \n",
       "36699  The impact of the drastic reduction in travel volume within mainland China in January and February 2020 was quantified with respect to reports of novel coronavirus (COVID-19) infections outside China. Data on confirmed cases diagnosed outside China were analyzed using statistical models to estimate the impact of travel reduction on three epidemiological outcome measures: (i) the number of exported cases, (ii) the probability of a major epidemic, and (iii) the time delay to a major epidemic. ...   \n",
       "36733  OBJECTIVES: This study aimed to assess the affective and cognitive risk perceptions in the general population of Middle East respiratory syndrome (MERS) during the 2015 MERS coronavirus (MERS-CoV) outbreak in South Korea and the influencing factors. DESIGN: Serial cross-sectional design with four consecutive surveys. SETTING: Nationwide general population in South Korea. PARTICIPANTS: Overall 4010 respondents (aged 19 years and over) from the general population during the MERS-CoV epidemic w...   \n",
       "38154  We have read with great interest the Correspondence by Shibo Jiang and colleagues,1 in which they propose a name change for the newly emerged coronavirus,2 which was recently designated severe acute respiratory syndrome coronavirus 2 (SARS-CoV-2) by the Coronavirus Study Group of the International Committee on Taxonomy of Viruses.3 The authors argued that the use of SARS in the virus name could confuse the public about the disease that it causes; in addition, they noted that the name SARS-Co...   \n",
       "38871  Abstract Swine acute diarrhea syndrome coronavirus (SADS-CoV), a newly emerging enteric coronavirus, is considered to be associated with swine acute diarrhea syndrome (SADS) which has caused significantly economic losses to the porcine industry. Interactions between SADS-CoV and the host innate immune response is unclear yet. In this study, we used IPEC-J2 cells as a model to explore potential evasion strategies employed by SADS-CoV. Our results showed that SADS-CoV infection failed to induc...   \n",
       "\n",
       "                                                                                                                                sha  \\\n",
       "1650                                                                                       90798ce4da0c11f8eba3a943743b0a1584ff046a   \n",
       "1892                                                                                       a0de24c5fdb4a0e77b1b5e8c002ced81ebe9b227   \n",
       "2254                                                                                       5dc4268a42adf3d5c55c87b7f6518de600b057c5   \n",
       "2681                                                                                       f48acaa9b87ab31e2be26149983fd243c4a9be6f   \n",
       "4174                                                                                       abca4179b3826ec453deacc4aed1030a0ded2700   \n",
       "...                                                                                                                             ...   \n",
       "36243                                                                                      cd4f5118038ae33283d34a15f8c3888f00e247bc   \n",
       "36699                                                                                      a6ce4ce12c7af1cfb4d71764b963285b687e6b51   \n",
       "36733  ee1da1dd024af358c92cfc92d1c1db60a5697771; d8a96ab6656a38b3c9380673aefaed8784982a11; 65bfb70c8de73d1e0100a181eb7ae6ee9a06e53a   \n",
       "38154                                                                                      6dde340deadeeaaef0533b4e5f15f8deff71510a   \n",
       "38871                                                                                      f6525bc180629aca4b0760e0ff9f187f2e2a6fec   \n",
       "\n",
       "           full_text_file has_pdf_parse has_pmc_xml_parse publish_time  \n",
       "1650       custom_license          True             False   2019-12-31  \n",
       "1892       custom_license          True             False   2020-12-31  \n",
       "2254       custom_license          True             False   2020-03-23  \n",
       "2681       custom_license          True             False   2019-12-31  \n",
       "4174       custom_license          True             False   2020-03-20  \n",
       "...                   ...           ...               ...          ...  \n",
       "36243      custom_license          True             False   2020-03-03  \n",
       "36699     comm_use_subset          True              True   2020-02-24  \n",
       "36733  noncomm_use_subset          True              True   2020-03-04  \n",
       "38154      custom_license          True             False   2020-03-06  \n",
       "38871      custom_license          True             False   2020-03-31  \n",
       "\n",
       "[74 rows x 7 columns]"
      ]
     },
     "execution_count": 137,
     "metadata": {},
     "output_type": "execute_result"
    }
   ],
   "source": [
    "economic_papers[economic_papers['abstract'].str.contains('economic')]"
   ]
  },
  {
   "cell_type": "code",
   "execution_count": 138,
   "metadata": {},
   "outputs": [],
   "source": [
    "economic_papers.to_csv(\"economic_abstracts.csv\", index=False)"
   ]
  },
  {
   "cell_type": "markdown",
   "metadata": {},
   "source": [
    "## Economic seems to be the only keyword, and works in title, not abstract"
   ]
  },
  {
   "cell_type": "code",
   "execution_count": 37,
   "metadata": {
    "scrolled": true
   },
   "outputs": [
    {
     "data": {
      "text/html": [
       "<div>\n",
       "<style scoped>\n",
       "    .dataframe tbody tr th:only-of-type {\n",
       "        vertical-align: middle;\n",
       "    }\n",
       "\n",
       "    .dataframe tbody tr th {\n",
       "        vertical-align: top;\n",
       "    }\n",
       "\n",
       "    .dataframe thead th {\n",
       "        text-align: right;\n",
       "    }\n",
       "</style>\n",
       "<table border=\"1\" class=\"dataframe\">\n",
       "  <thead>\n",
       "    <tr style=\"text-align: right;\">\n",
       "      <th></th>\n",
       "      <th>title</th>\n",
       "      <th>abstract</th>\n",
       "      <th>sha</th>\n",
       "      <th>full_text_file</th>\n",
       "      <th>has_pdf_parse</th>\n",
       "      <th>has_pmc_xml_parse</th>\n",
       "    </tr>\n",
       "  </thead>\n",
       "  <tbody>\n",
       "    <tr>\n",
       "      <td>12071</td>\n",
       "      <td>Global epidemiology of coronavirus disease 2019 (COVID-19): disease incidence, daily cumulative index, mortality, and their association with country healthcare resources and economic status</td>\n",
       "      <td>ABSTRACT It has been 2 months since the first case of coronavirus disease 2019 (COVID-19) was reported in Wuhan, China. So far, COVID-19 has affected 85 403 patients in 57 countries/territories and has caused 2924 deaths in 9 countries. However, epidemiological data differ between countries. Although China had higher morbidity and mortality than other sites, the number of new daily cases in China has been lower than outside of China since 26 February 2020. The incidence ranged from 61.44 per...</td>\n",
       "      <td>dc1e6aa9ceaf4d2129fa5c16f2649e4688405832</td>\n",
       "      <td>custom_license</td>\n",
       "      <td>True</td>\n",
       "      <td>False</td>\n",
       "    </tr>\n",
       "    <tr>\n",
       "      <td>22116</td>\n",
       "      <td>Estimates and determinants of economic impacts from influenza‐like illnesses caused by respiratory viruses in Australian children attending childcare: a cohort study</td>\n",
       "      <td>BACKGROUND: Influenza and other respiratory infections cause excess winter morbidity in children. This study assessed the economic impact of influenza‐like illness (ILI) on families with children attending childcare using a societal perspective. METHODS: We conducted a prospective cohort study in 90 childcare centres and one general practitioner clinics in Sydney, Australia, during 2010. Healthy children aged ≥6 months to &lt;3 years were enrolled. Economic impacts of ILI (temperature ≥37·8°C o...</td>\n",
       "      <td>b3fd1c9139c31dc46f7b65873260adcb21f47192</td>\n",
       "      <td>custom_license</td>\n",
       "      <td>True</td>\n",
       "      <td>True</td>\n",
       "    </tr>\n",
       "    <tr>\n",
       "      <td>30629</td>\n",
       "      <td>Seroprevalence of economically important viral pathogens in swine populations of Trinidad and Tobago, West Indies</td>\n",
       "      <td>The objective of this study was to evaluate the seroprevalence and identify the strains of swine influenza virus (SwIV), as well as the seroprevalence of porcine parvovirus (PPV), transmissible gastroenteritis virus (TGEV), porcine reproductive and respiratory syndrome virus (PRRSV), porcine respiratory coronavirus (PRCV), porcine circovirus type 2 (PCV-2), and classical swine fever virus (CSFV) in pigs in Trinidad and Tobago (T&amp;T). Blood samples (309) were randomly collected from pigs at fa...</td>\n",
       "      <td>479307c95d4d31ef10f0c813e00261b72d9c755e</td>\n",
       "      <td>custom_license</td>\n",
       "      <td>True</td>\n",
       "      <td>True</td>\n",
       "    </tr>\n",
       "    <tr>\n",
       "      <td>37298</td>\n",
       "      <td>A reliable, practical, and economical protocol for inducing diarrhea and severe dehydration in the neonatal calf.</td>\n",
       "      <td>Fifteen healthy, colostrum-fed, male dairy calves, aged 2 to 7 d were used in a study to develop a diarrhea protocol for neonatal calves that is reliable, practical, and economical. After instrumentation and recording baseline data, diarrhea and dehydration were induced by administering milk replacer [16.5 mL/kg of body weight (BW), PO], sucrose (2 g/kg in a 20% aqueous solution, p.o.), spironolactone and hydrochlorothiazide (1 mg/kg, PO) every 8 h, and furosemide (2 mg/kg, i.m., q6h). Calve...</td>\n",
       "      <td>NaN</td>\n",
       "      <td>NaN</td>\n",
       "      <td>False</td>\n",
       "      <td>False</td>\n",
       "    </tr>\n",
       "    <tr>\n",
       "      <td>41989</td>\n",
       "      <td>Impacts of social and economic factors on the transmission of coronavirus disease (COVID-19) in China</td>\n",
       "      <td>This paper examines the role of various socioeconomic factors in mediating the local and cross-city transmissions of the novel coronavirus 2019 (COVID-19) in China. We implement a machine learning approach to select instrumental variables that strongly predict virus transmission among the rich exogenous weather characteristics. Our 2SLS estimates show that the stringent quarantine, massive lockdown and other public health measures imposed in late January significantly reduced the transmissio...</td>\n",
       "      <td>de055f09fef2776bc78bac5d58c4131301b2025f</td>\n",
       "      <td>biorxiv_medrxiv</td>\n",
       "      <td>True</td>\n",
       "      <td>False</td>\n",
       "    </tr>\n",
       "    <tr>\n",
       "      <td>42970</td>\n",
       "      <td>Economic Impacts of Wuhan 2019-nCoV on China and the World</td>\n",
       "      <td>Uncertainties over the Wuhan 2019 Novel Coronavirus (2019-nCoV), which has killed 1,017 people and sickened more than 43,100 as of Feb 11,(1) has interrupted global trade and supply chains, depressed asset prices, and forced multinational businesses to make hard decisions with limited information. This article is protected by copyright. All rights reserved.</td>\n",
       "      <td>NaN</td>\n",
       "      <td>NaN</td>\n",
       "      <td>False</td>\n",
       "      <td>False</td>\n",
       "    </tr>\n",
       "    <tr>\n",
       "      <td>43084</td>\n",
       "      <td>Modelling the Economic Impact and Ripple Effects of Disease Outbreaks</td>\n",
       "      <td>The Coronavirus Disease 2019 (COVID-19) outbreak has had alarming effects on human lives and the economies of affected countries. With the world’s manufacturing hubs experiencing a period of extended factory closures, the economic impact transcends territorial borders via global supply chains. This paper provides a roadmap on how to evaluate the vulnerability that cascades through the supply chain due to a disease outbreak at the firm level, national level, and global scale. The final extent...</td>\n",
       "      <td>NaN</td>\n",
       "      <td>NaN</td>\n",
       "      <td>False</td>\n",
       "      <td>False</td>\n",
       "    </tr>\n",
       "    <tr>\n",
       "      <td>43256</td>\n",
       "      <td>World Economic Prospects Monthly</td>\n",
       "      <td>Overview: Coronavirus to cut global growth to new lows ▀ The rapid spread of coronavirus will weaken China's GDP growth sharply in the short term, causing disruption for the rest of the world. We now expect global GDP growth to slow to just 1.9% y/y in Q1 this year and have lowered our forecast for 2020 as a whole from 2.5% to 2.3%, down from 2.6% in 2019. ▀ Prior to the coronavirus outbreak, there had been signs that the worst was over for both world trade and the manufacturing sector. Howe...</td>\n",
       "      <td>NaN</td>\n",
       "      <td>NaN</td>\n",
       "      <td>False</td>\n",
       "      <td>False</td>\n",
       "    </tr>\n",
       "    <tr>\n",
       "      <td>44732</td>\n",
       "      <td>Potential scenarios for the progression of a COVID-19 epidemic in the European Union and the European Economic Area, March 2020</td>\n",
       "      <td>Two months after the emergence of severe acute respiratory syndrome coronavirus 2 (SARS-CoV-2), the possibility of established and widespread community transmission in the European Union and European Economic Area (EU/EEA) is becoming more likely. We provide scenarios for use in preparedness for a possible widespread epidemic. The EU/EEA is moving towards the ‘limited sustained transmission’ phase. We propose actions to prepare for potential mitigation phases and coordinate efforts to protec...</td>\n",
       "      <td>c118f8139e55632ad0f4d7267c40b0419126e874</td>\n",
       "      <td>comm_use_subset</td>\n",
       "      <td>True</td>\n",
       "      <td>True</td>\n",
       "    </tr>\n",
       "    <tr>\n",
       "      <td>45982</td>\n",
       "      <td>Rapidly increasing cumulative incidence of coronavirus disease (COVID-19) in the European Union/European Economic Area and the United Kingdom, 1 January to 15 March 2020</td>\n",
       "      <td>The cumulative incidence of coronavirus disease (COVID-19) cases is showing similar trends in European Union/European Economic Area countries and the United Kingdom confirming that, while at a different stage depending on the country, the COVID-19 pandemic is progressing rapidly in all countries. Based on the experience from Italy, countries, hospitals and intensive care units should increase their preparedness for a surge of patients with COVID-19 who will require healthcare, and in particu...</td>\n",
       "      <td>3aacd806eb100b38f64a8c5cab039e18ee0e9d73</td>\n",
       "      <td>comm_use_subset</td>\n",
       "      <td>True</td>\n",
       "      <td>True</td>\n",
       "    </tr>\n",
       "  </tbody>\n",
       "</table>\n",
       "</div>"
      ],
      "text/plain": [
       "                                                                                                                                                                                               title  \\\n",
       "12071  Global epidemiology of coronavirus disease 2019 (COVID-19): disease incidence, daily cumulative index, mortality, and their association with country healthcare resources and economic status   \n",
       "22116                          Estimates and determinants of economic impacts from influenza‐like illnesses caused by respiratory viruses in Australian children attending childcare: a cohort study   \n",
       "30629                                                                              Seroprevalence of economically important viral pathogens in swine populations of Trinidad and Tobago, West Indies   \n",
       "37298                                                                              A reliable, practical, and economical protocol for inducing diarrhea and severe dehydration in the neonatal calf.   \n",
       "41989                                                                                          Impacts of social and economic factors on the transmission of coronavirus disease (COVID-19) in China   \n",
       "42970                                                                                                                                     Economic Impacts of Wuhan 2019-nCoV on China and the World   \n",
       "43084                                                                                                                          Modelling the Economic Impact and Ripple Effects of Disease Outbreaks   \n",
       "43256                                                                                                                                                               World Economic Prospects Monthly   \n",
       "44732                                                                Potential scenarios for the progression of a COVID-19 epidemic in the European Union and the European Economic Area, March 2020   \n",
       "45982                      Rapidly increasing cumulative incidence of coronavirus disease (COVID-19) in the European Union/European Economic Area and the United Kingdom, 1 January to 15 March 2020   \n",
       "\n",
       "                                                                                                                                                                                                                                                                                                                                                                                                                                                                                                                  abstract  \\\n",
       "12071  ABSTRACT It has been 2 months since the first case of coronavirus disease 2019 (COVID-19) was reported in Wuhan, China. So far, COVID-19 has affected 85 403 patients in 57 countries/territories and has caused 2924 deaths in 9 countries. However, epidemiological data differ between countries. Although China had higher morbidity and mortality than other sites, the number of new daily cases in China has been lower than outside of China since 26 February 2020. The incidence ranged from 61.44 per...   \n",
       "22116  BACKGROUND: Influenza and other respiratory infections cause excess winter morbidity in children. This study assessed the economic impact of influenza‐like illness (ILI) on families with children attending childcare using a societal perspective. METHODS: We conducted a prospective cohort study in 90 childcare centres and one general practitioner clinics in Sydney, Australia, during 2010. Healthy children aged ≥6 months to <3 years were enrolled. Economic impacts of ILI (temperature ≥37·8°C o...   \n",
       "30629  The objective of this study was to evaluate the seroprevalence and identify the strains of swine influenza virus (SwIV), as well as the seroprevalence of porcine parvovirus (PPV), transmissible gastroenteritis virus (TGEV), porcine reproductive and respiratory syndrome virus (PRRSV), porcine respiratory coronavirus (PRCV), porcine circovirus type 2 (PCV-2), and classical swine fever virus (CSFV) in pigs in Trinidad and Tobago (T&T). Blood samples (309) were randomly collected from pigs at fa...   \n",
       "37298  Fifteen healthy, colostrum-fed, male dairy calves, aged 2 to 7 d were used in a study to develop a diarrhea protocol for neonatal calves that is reliable, practical, and economical. After instrumentation and recording baseline data, diarrhea and dehydration were induced by administering milk replacer [16.5 mL/kg of body weight (BW), PO], sucrose (2 g/kg in a 20% aqueous solution, p.o.), spironolactone and hydrochlorothiazide (1 mg/kg, PO) every 8 h, and furosemide (2 mg/kg, i.m., q6h). Calve...   \n",
       "41989  This paper examines the role of various socioeconomic factors in mediating the local and cross-city transmissions of the novel coronavirus 2019 (COVID-19) in China. We implement a machine learning approach to select instrumental variables that strongly predict virus transmission among the rich exogenous weather characteristics. Our 2SLS estimates show that the stringent quarantine, massive lockdown and other public health measures imposed in late January significantly reduced the transmissio...   \n",
       "42970                                                                                                                                              Uncertainties over the Wuhan 2019 Novel Coronavirus (2019-nCoV), which has killed 1,017 people and sickened more than 43,100 as of Feb 11,(1) has interrupted global trade and supply chains, depressed asset prices, and forced multinational businesses to make hard decisions with limited information. This article is protected by copyright. All rights reserved.   \n",
       "43084  The Coronavirus Disease 2019 (COVID-19) outbreak has had alarming effects on human lives and the economies of affected countries. With the world’s manufacturing hubs experiencing a period of extended factory closures, the economic impact transcends territorial borders via global supply chains. This paper provides a roadmap on how to evaluate the vulnerability that cascades through the supply chain due to a disease outbreak at the firm level, national level, and global scale. The final extent...   \n",
       "43256  Overview: Coronavirus to cut global growth to new lows ▀ The rapid spread of coronavirus will weaken China's GDP growth sharply in the short term, causing disruption for the rest of the world. We now expect global GDP growth to slow to just 1.9% y/y in Q1 this year and have lowered our forecast for 2020 as a whole from 2.5% to 2.3%, down from 2.6% in 2019. ▀ Prior to the coronavirus outbreak, there had been signs that the worst was over for both world trade and the manufacturing sector. Howe...   \n",
       "44732  Two months after the emergence of severe acute respiratory syndrome coronavirus 2 (SARS-CoV-2), the possibility of established and widespread community transmission in the European Union and European Economic Area (EU/EEA) is becoming more likely. We provide scenarios for use in preparedness for a possible widespread epidemic. The EU/EEA is moving towards the ‘limited sustained transmission’ phase. We propose actions to prepare for potential mitigation phases and coordinate efforts to protec...   \n",
       "45982  The cumulative incidence of coronavirus disease (COVID-19) cases is showing similar trends in European Union/European Economic Area countries and the United Kingdom confirming that, while at a different stage depending on the country, the COVID-19 pandemic is progressing rapidly in all countries. Based on the experience from Italy, countries, hospitals and intensive care units should increase their preparedness for a surge of patients with COVID-19 who will require healthcare, and in particu...   \n",
       "\n",
       "                                            sha   full_text_file  \\\n",
       "12071  dc1e6aa9ceaf4d2129fa5c16f2649e4688405832   custom_license   \n",
       "22116  b3fd1c9139c31dc46f7b65873260adcb21f47192   custom_license   \n",
       "30629  479307c95d4d31ef10f0c813e00261b72d9c755e   custom_license   \n",
       "37298                                       NaN              NaN   \n",
       "41989  de055f09fef2776bc78bac5d58c4131301b2025f  biorxiv_medrxiv   \n",
       "42970                                       NaN              NaN   \n",
       "43084                                       NaN              NaN   \n",
       "43256                                       NaN              NaN   \n",
       "44732  c118f8139e55632ad0f4d7267c40b0419126e874  comm_use_subset   \n",
       "45982  3aacd806eb100b38f64a8c5cab039e18ee0e9d73  comm_use_subset   \n",
       "\n",
       "      has_pdf_parse has_pmc_xml_parse  \n",
       "12071          True             False  \n",
       "22116          True              True  \n",
       "30629          True              True  \n",
       "37298         False             False  \n",
       "41989          True             False  \n",
       "42970         False             False  \n",
       "43084         False             False  \n",
       "43256         False             False  \n",
       "44732          True              True  \n",
       "45982          True              True  "
      ]
     },
     "execution_count": 37,
     "metadata": {},
     "output_type": "execute_result"
    }
   ],
   "source": [
    "return_papers(economic_keywords, covid_papers, 0)"
   ]
  },
  {
   "cell_type": "markdown",
   "metadata": {},
   "source": [
    "## Corona may also be too broad, but not sure how to limit otherwise"
   ]
  },
  {
   "cell_type": "markdown",
   "metadata": {},
   "source": [
    "## Search full text files"
   ]
  },
  {
   "cell_type": "code",
   "execution_count": 139,
   "metadata": {},
   "outputs": [],
   "source": [
    "def find_keyword(keywords, text):\n",
    "    \"\"\"\n",
    "    Iterates through a list of keywords and searches them in a string of text.\n",
    "\n",
    "    inputs:\n",
    "      keywords: list of keywords\n",
    "      text: string of text\n",
    "\n",
    "    output: number of times keywords are found in the text\n",
    "    \"\"\"\n",
    "    find = []\n",
    "    for keyword in keywords:\n",
    "        find.extend(re.findall(keyword, text.lower()))\n",
    "    return len(find)"
   ]
  },
  {
   "cell_type": "code",
   "execution_count": 140,
   "metadata": {},
   "outputs": [],
   "source": [
    "def search_body_text(sha, folder1, folder2, keywords, sentence_only):\n",
    "    \"\"\"\n",
    "    Searches a single full length text for sentences/paragraphs which contain a list of keywords.\n",
    "\n",
    "    inputs:\n",
    "      sha: sha file name\n",
    "      folder1: text folder name\n",
    "      folder2: pdf or pmc folder name\n",
    "      keywords: list of keywords to search for\n",
    "      sentence_only: whether or not to show sentence only or full paragraph\n",
    "    \n",
    "    output: list of sentences/paragraphs found containing keywords\n",
    "    \"\"\"\n",
    "\n",
    "    #open text file\n",
    "    with open('./CORD-19-research-challenge/'+folder1+'/'+folder1+'/'+folder2+'/'+sha+'.json') as f:\n",
    "        file = json.load(f)\n",
    "    \n",
    "    found = []\n",
    "    for text_dict in file[\"body_text\"]:\n",
    "        \n",
    "        #if show_sentence_only, then split the paragraph into sentences, then look for keywords\n",
    "        if sentence_only:\n",
    "            sentences = text_dict[\"text\"].split(\". \")\n",
    "            for sentence in sentences:\n",
    "                count = find_keyword(keywords, sentence)\n",
    "                if count > 0:\n",
    "                    found.append(sentence)\n",
    "                    \n",
    "        #otherwise, show the whole paragraph\n",
    "        else:\n",
    "            count = find_keyword(keywords, text_dict[\"text\"])\n",
    "            if count > 0:\n",
    "                #print(text_dict[\"section\"])\n",
    "                found.append(text_dict[\"text\"])\n",
    "                \n",
    "    return(found)"
   ]
  },
  {
   "cell_type": "code",
   "execution_count": 141,
   "metadata": {},
   "outputs": [],
   "source": [
    "def automated_lit_search(metadata_subset, keywords, sentence_only=True):\n",
    "    \"\"\"\n",
    "    Creates a table keyword findings.\n",
    "    \n",
    "    inputs:\n",
    "      metadata_subset: subset of metadata file to search\n",
    "      keywords: list of keywords to search\n",
    "      sentence_only: whether or not to show sentence only or full paragraph\n",
    "    \n",
    "    output: dataframe table of results with columns containing index, title, and text snippet\n",
    "    \"\"\"\n",
    "    results = []\n",
    "    \n",
    "    indices = metadata_subset[metadata_subset['has_pdf_parse'] == True].index\n",
    "    indices_pmc = metadata_subset[metadata_subset['has_pmc_xml_parse'] == True].index\n",
    "    indices.append(indices_pmc)\n",
    "    \n",
    "    for index in indices:\n",
    "        \n",
    "        #find text location\n",
    "        sha = metadata_subset[\"sha\"][index].split(';')[0]\n",
    "        folder1 = metadata_subset[\"full_text_file\"][index]\n",
    "        if metadata_subset['has_pdf_parse'][index] == True:\n",
    "            folder2 = 'pdf_json'\n",
    "        elif metadata_subset['has_pmc_xml_parse'][index] == True:\n",
    "            folder2 = 'pmc_json'\n",
    "        \n",
    "        #open text and search for keywords\n",
    "        found = search_body_text(sha, folder1, folder2, keywords, sentence_only)\n",
    "        if len(found) > 0:\n",
    "            for f in found:\n",
    "                results.append([index, metadata_subset[\"title\"][index], f])\n",
    "                \n",
    "    results_df = pd.DataFrame(results, columns=[\"index\",\"title\",\"text\"])\n",
    "    return(results_df)"
   ]
  },
  {
   "cell_type": "code",
   "execution_count": 142,
   "metadata": {},
   "outputs": [],
   "source": [
    "intervention_sentences = automated_lit_search(intervention_papers, intervention_keywords, True)\n",
    "intervention_sentences.to_csv('intervention_sentences.csv', index=False)"
   ]
  },
  {
   "cell_type": "code",
   "execution_count": 144,
   "metadata": {},
   "outputs": [],
   "source": [
    "intervention_paragraphs = automated_lit_search(intervention_papers, intervention_keywords, False)\n",
    "intervention_paragraphs.to_csv('intervention_paragraphs.csv', index=False)"
   ]
  },
  {
   "cell_type": "code",
   "execution_count": 145,
   "metadata": {},
   "outputs": [],
   "source": [
    "economic_sentences = automated_lit_search(economic_papers, economic_keywords, True)\n",
    "economic_sentences.to_csv('economic_sentences.csv', index=False)"
   ]
  },
  {
   "cell_type": "code",
   "execution_count": 146,
   "metadata": {},
   "outputs": [],
   "source": [
    "economic_paragraphs = automated_lit_search(economic_papers, economic_keywords, False)\n",
    "economic_paragraphs.to_csv('economic_paragraphs.csv', index=False)"
   ]
  },
  {
   "cell_type": "code",
   "execution_count": null,
   "metadata": {},
   "outputs": [],
   "source": []
  }
 ],
 "metadata": {
  "kernelspec": {
   "display_name": "Python 3",
   "language": "python",
   "name": "python3"
  },
  "language_info": {
   "codemirror_mode": {
    "name": "ipython",
    "version": 3
   },
   "file_extension": ".py",
   "mimetype": "text/x-python",
   "name": "python",
   "nbconvert_exporter": "python",
   "pygments_lexer": "ipython3",
   "version": "3.7.4"
  }
 },
 "nbformat": 4,
 "nbformat_minor": 2
}
